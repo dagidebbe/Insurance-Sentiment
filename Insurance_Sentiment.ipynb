{
 "cells": [
  {
   "cell_type": "code",
   "execution_count": 687,
   "metadata": {},
   "outputs": [],
   "source": [
    "import pandas as pd\n",
    "import numpy as np\n",
    "import matplotlib.pyplot as plt\n",
    "import seaborn as sns\n",
    "from sklearn.cross_validation import train_test_split\n",
    "import string"
   ]
  },
  {
   "cell_type": "markdown",
   "metadata": {},
   "source": [
    "## Get the Data"
   ]
  },
  {
   "cell_type": "markdown",
   "metadata": {},
   "source": [
    "**Get data**"
   ]
  },
  {
   "cell_type": "code",
   "execution_count": 688,
   "metadata": {},
   "outputs": [],
   "source": [
    "df1 = pd.read_csv('/Users/dougmengistu/Documents/tweet1.csv')\n",
    "df2 = pd.read_csv('/Users/dougmengistu/Documents/tweet2.csv')\n",
    "df3 = pd.read_csv('/Users/dougmengistu/Documents/tweet3.csv')\n",
    "df4 = pd.read_csv('/Users/dougmengistu/Documents/tweet4.csv')\n",
    "df5 = pd.read_csv('/Users/dougmengistu/Documents/tweet5.csv')\n",
    "df6 = pd.read_csv('/Users/dougmengistu/Documents/tweet6.csv')\n",
    "df7 = pd.read_csv('/Users/dougmengistu/Documents/tweet7.csv')\n",
    "df8 = pd.read_csv('/Users/dougmengistu/Documents/tweet8.csv')\n",
    "df9 = pd.read_csv('/Users/dougmengistu/Documents/tweet9.csv')"
   ]
  },
  {
   "cell_type": "markdown",
   "metadata": {},
   "source": [
    "**Concatinate the dataframes**"
   ]
  },
  {
   "cell_type": "code",
   "execution_count": 689,
   "metadata": {},
   "outputs": [],
   "source": [
    "frames = [df1,df2,df3,df4,df5,df6,df7,df8,df9]"
   ]
  },
  {
   "cell_type": "code",
   "execution_count": 690,
   "metadata": {},
   "outputs": [],
   "source": [
    "result = pd.concat(frames)"
   ]
  },
  {
   "cell_type": "code",
   "execution_count": 691,
   "metadata": {},
   "outputs": [],
   "source": [
    "result = result.drop(labels='sentiment (S)', axis=1)"
   ]
  },
  {
   "cell_type": "code",
   "execution_count": 692,
   "metadata": {},
   "outputs": [
    {
     "data": {
      "text/plain": [
       "846"
      ]
     },
     "execution_count": 692,
     "metadata": {},
     "output_type": "execute_result"
    }
   ],
   "source": [
    "len(result.index)"
   ]
  },
  {
   "cell_type": "markdown",
   "metadata": {},
   "source": [
    "**DATA**"
   ]
  },
  {
   "cell_type": "code",
   "execution_count": 693,
   "metadata": {
    "scrolled": true
   },
   "outputs": [
    {
     "data": {
      "text/html": [
       "<div>\n",
       "<style>\n",
       "    .dataframe thead tr:only-child th {\n",
       "        text-align: right;\n",
       "    }\n",
       "\n",
       "    .dataframe thead th {\n",
       "        text-align: left;\n",
       "    }\n",
       "\n",
       "    .dataframe tbody tr th {\n",
       "        vertical-align: top;\n",
       "    }\n",
       "</style>\n",
       "<table border=\"1\" class=\"dataframe\">\n",
       "  <thead>\n",
       "    <tr style=\"text-align: right;\">\n",
       "      <th></th>\n",
       "      <th>id (S)</th>\n",
       "      <th>company (S)</th>\n",
       "      <th>content (S)</th>\n",
       "      <th>createdAt (S)</th>\n",
       "      <th>keyword (S)</th>\n",
       "      <th>tweetId (N)</th>\n",
       "      <th>user (S)</th>\n",
       "      <th>userId (N)</th>\n",
       "    </tr>\n",
       "  </thead>\n",
       "  <tbody>\n",
       "    <tr>\n",
       "      <th>0</th>\n",
       "      <td>cf842bca-b58e-4686-95e3-43f6f63c0a49</td>\n",
       "      <td>AIGInsurance</td>\n",
       "      <td>@aigkenham @AiG God says you don't need to wor...</td>\n",
       "      <td>not</td>\n",
       "      <td>AIG</td>\n",
       "      <td>8.99687e+17</td>\n",
       "      <td>AidanStreet</td>\n",
       "      <td>4.807950e+07</td>\n",
       "    </tr>\n",
       "    <tr>\n",
       "      <th>1</th>\n",
       "      <td>b7701300-52e2-4d30-abce-d38829cda22c</td>\n",
       "      <td>GEICO</td>\n",
       "      <td>RT @FactsOnFox: .@GEICO Your ads on #FoxNews s...</td>\n",
       "      <td>negative</td>\n",
       "      <td>GEICO</td>\n",
       "      <td>8.97936e+17</td>\n",
       "      <td>AtheComm</td>\n",
       "      <td>8.776025e+17</td>\n",
       "    </tr>\n",
       "    <tr>\n",
       "      <th>2</th>\n",
       "      <td>13fdb266-95b3-4e65-9c3f-205f5ad9259f</td>\n",
       "      <td>GEICO</td>\n",
       "      <td>RT @killmefam: N Koreas 1st Target should b th...</td>\n",
       "      <td>negative</td>\n",
       "      <td>GEICO</td>\n",
       "      <td>8.99651e+17</td>\n",
       "      <td>woezyb</td>\n",
       "      <td>7.070237e+17</td>\n",
       "    </tr>\n",
       "    <tr>\n",
       "      <th>3</th>\n",
       "      <td>c1770d7f-9209-42f7-9c26-ba90f1e4d786</td>\n",
       "      <td>GEICO</td>\n",
       "      <td>@geico #skytypers lined up https://t.co/JaUoyA...</td>\n",
       "      <td>neutral</td>\n",
       "      <td>GEICO</td>\n",
       "      <td>8.99659e+17</td>\n",
       "      <td>acpresspamela</td>\n",
       "      <td>7.866205e+07</td>\n",
       "    </tr>\n",
       "    <tr>\n",
       "      <th>4</th>\n",
       "      <td>078d1960-740f-427d-a975-de1cdc0450ee</td>\n",
       "      <td>GEICO</td>\n",
       "      <td>RT @killmefam: N Koreas 1st Target should b th...</td>\n",
       "      <td>negative</td>\n",
       "      <td>GEICO</td>\n",
       "      <td>8.99641e+17</td>\n",
       "      <td>Bar3lyL0gical</td>\n",
       "      <td>4.124504e+09</td>\n",
       "    </tr>\n",
       "  </tbody>\n",
       "</table>\n",
       "</div>"
      ],
      "text/plain": [
       "                                 id (S)   company (S)  \\\n",
       "0  cf842bca-b58e-4686-95e3-43f6f63c0a49  AIGInsurance   \n",
       "1  b7701300-52e2-4d30-abce-d38829cda22c         GEICO   \n",
       "2  13fdb266-95b3-4e65-9c3f-205f5ad9259f         GEICO   \n",
       "3  c1770d7f-9209-42f7-9c26-ba90f1e4d786         GEICO   \n",
       "4  078d1960-740f-427d-a975-de1cdc0450ee         GEICO   \n",
       "\n",
       "                                         content (S) createdAt (S)  \\\n",
       "0  @aigkenham @AiG God says you don't need to wor...           not   \n",
       "1  RT @FactsOnFox: .@GEICO Your ads on #FoxNews s...      negative   \n",
       "2  RT @killmefam: N Koreas 1st Target should b th...      negative   \n",
       "3  @geico #skytypers lined up https://t.co/JaUoyA...       neutral   \n",
       "4  RT @killmefam: N Koreas 1st Target should b th...      negative   \n",
       "\n",
       "  keyword (S)  tweetId (N)       user (S)    userId (N)  \n",
       "0         AIG  8.99687e+17    AidanStreet  4.807950e+07  \n",
       "1       GEICO  8.97936e+17       AtheComm  8.776025e+17  \n",
       "2       GEICO  8.99651e+17         woezyb  7.070237e+17  \n",
       "3       GEICO  8.99659e+17  acpresspamela  7.866205e+07  \n",
       "4       GEICO  8.99641e+17  Bar3lyL0gical  4.124504e+09  "
      ]
     },
     "execution_count": 693,
     "metadata": {},
     "output_type": "execute_result"
    }
   ],
   "source": [
    "result.head()"
   ]
  },
  {
   "cell_type": "markdown",
   "metadata": {},
   "source": [
    "**Filter dataset**"
   ]
  },
  {
   "cell_type": "code",
   "execution_count": null,
   "metadata": {},
   "outputs": [],
   "source": []
  },
  {
   "cell_type": "code",
   "execution_count": 694,
   "metadata": {},
   "outputs": [],
   "source": [
    "result_clean = result[(result['createdAt (S)'] != 'not') | (result['createdAt (S)'] == 'nan')]"
   ]
  },
  {
   "cell_type": "code",
   "execution_count": 695,
   "metadata": {},
   "outputs": [
    {
     "name": "stderr",
     "output_type": "stream",
     "text": [
      "/Library/Frameworks/Python.framework/Versions/3.6/lib/python3.6/site-packages/pandas/core/frame.py:2746: SettingWithCopyWarning: \n",
      "A value is trying to be set on a copy of a slice from a DataFrame\n",
      "\n",
      "See the caveats in the documentation: http://pandas.pydata.org/pandas-docs/stable/indexing.html#indexing-view-versus-copy\n",
      "  **kwargs)\n"
     ]
    }
   ],
   "source": [
    "result_clean.rename(index=str, columns={\"content (S)\": \"tweets\", \"createdAt (S)\":\"sentiments\"}, inplace=True)"
   ]
  },
  {
   "cell_type": "markdown",
   "metadata": {},
   "source": [
    "Total tweets after filter is 516"
   ]
  },
  {
   "cell_type": "code",
   "execution_count": 696,
   "metadata": {},
   "outputs": [
    {
     "data": {
      "text/plain": [
       "516"
      ]
     },
     "execution_count": 696,
     "metadata": {},
     "output_type": "execute_result"
    }
   ],
   "source": [
    "len(result_clean.index)"
   ]
  },
  {
   "cell_type": "code",
   "execution_count": 697,
   "metadata": {},
   "outputs": [
    {
     "data": {
      "text/html": [
       "<div>\n",
       "<style>\n",
       "    .dataframe thead tr:only-child th {\n",
       "        text-align: right;\n",
       "    }\n",
       "\n",
       "    .dataframe thead th {\n",
       "        text-align: left;\n",
       "    }\n",
       "\n",
       "    .dataframe tbody tr th {\n",
       "        vertical-align: top;\n",
       "    }\n",
       "</style>\n",
       "<table border=\"1\" class=\"dataframe\">\n",
       "  <thead>\n",
       "    <tr style=\"text-align: right;\">\n",
       "      <th></th>\n",
       "      <th>id (S)</th>\n",
       "      <th>company (S)</th>\n",
       "      <th>tweets</th>\n",
       "      <th>sentiments</th>\n",
       "      <th>keyword (S)</th>\n",
       "      <th>tweetId (N)</th>\n",
       "      <th>user (S)</th>\n",
       "      <th>userId (N)</th>\n",
       "    </tr>\n",
       "  </thead>\n",
       "  <tbody>\n",
       "    <tr>\n",
       "      <th>1</th>\n",
       "      <td>b7701300-52e2-4d30-abce-d38829cda22c</td>\n",
       "      <td>GEICO</td>\n",
       "      <td>RT @FactsOnFox: .@GEICO Your ads on #FoxNews s...</td>\n",
       "      <td>negative</td>\n",
       "      <td>GEICO</td>\n",
       "      <td>8.97936e+17</td>\n",
       "      <td>AtheComm</td>\n",
       "      <td>8.776025e+17</td>\n",
       "    </tr>\n",
       "    <tr>\n",
       "      <th>2</th>\n",
       "      <td>13fdb266-95b3-4e65-9c3f-205f5ad9259f</td>\n",
       "      <td>GEICO</td>\n",
       "      <td>RT @killmefam: N Koreas 1st Target should b th...</td>\n",
       "      <td>negative</td>\n",
       "      <td>GEICO</td>\n",
       "      <td>8.99651e+17</td>\n",
       "      <td>woezyb</td>\n",
       "      <td>7.070237e+17</td>\n",
       "    </tr>\n",
       "    <tr>\n",
       "      <th>3</th>\n",
       "      <td>c1770d7f-9209-42f7-9c26-ba90f1e4d786</td>\n",
       "      <td>GEICO</td>\n",
       "      <td>@geico #skytypers lined up https://t.co/JaUoyA...</td>\n",
       "      <td>neutral</td>\n",
       "      <td>GEICO</td>\n",
       "      <td>8.99659e+17</td>\n",
       "      <td>acpresspamela</td>\n",
       "      <td>7.866205e+07</td>\n",
       "    </tr>\n",
       "    <tr>\n",
       "      <th>4</th>\n",
       "      <td>078d1960-740f-427d-a975-de1cdc0450ee</td>\n",
       "      <td>GEICO</td>\n",
       "      <td>RT @killmefam: N Koreas 1st Target should b th...</td>\n",
       "      <td>negative</td>\n",
       "      <td>GEICO</td>\n",
       "      <td>8.99641e+17</td>\n",
       "      <td>Bar3lyL0gical</td>\n",
       "      <td>4.124504e+09</td>\n",
       "    </tr>\n",
       "    <tr>\n",
       "      <th>6</th>\n",
       "      <td>c57fa40d-b8db-42e0-8294-c74bdd7bbd32</td>\n",
       "      <td>GEICO</td>\n",
       "      <td>Join the GEICO team! See our latest #job openi...</td>\n",
       "      <td>neutral</td>\n",
       "      <td>GEICO</td>\n",
       "      <td>8.99647e+17</td>\n",
       "      <td>GEICO_Jobs</td>\n",
       "      <td>2.013487e+08</td>\n",
       "    </tr>\n",
       "  </tbody>\n",
       "</table>\n",
       "</div>"
      ],
      "text/plain": [
       "                                 id (S) company (S)  \\\n",
       "1  b7701300-52e2-4d30-abce-d38829cda22c       GEICO   \n",
       "2  13fdb266-95b3-4e65-9c3f-205f5ad9259f       GEICO   \n",
       "3  c1770d7f-9209-42f7-9c26-ba90f1e4d786       GEICO   \n",
       "4  078d1960-740f-427d-a975-de1cdc0450ee       GEICO   \n",
       "6  c57fa40d-b8db-42e0-8294-c74bdd7bbd32       GEICO   \n",
       "\n",
       "                                              tweets sentiments keyword (S)  \\\n",
       "1  RT @FactsOnFox: .@GEICO Your ads on #FoxNews s...   negative       GEICO   \n",
       "2  RT @killmefam: N Koreas 1st Target should b th...   negative       GEICO   \n",
       "3  @geico #skytypers lined up https://t.co/JaUoyA...    neutral       GEICO   \n",
       "4  RT @killmefam: N Koreas 1st Target should b th...   negative       GEICO   \n",
       "6  Join the GEICO team! See our latest #job openi...    neutral       GEICO   \n",
       "\n",
       "   tweetId (N)       user (S)    userId (N)  \n",
       "1  8.97936e+17       AtheComm  8.776025e+17  \n",
       "2  8.99651e+17         woezyb  7.070237e+17  \n",
       "3  8.99659e+17  acpresspamela  7.866205e+07  \n",
       "4  8.99641e+17  Bar3lyL0gical  4.124504e+09  \n",
       "6  8.99647e+17     GEICO_Jobs  2.013487e+08  "
      ]
     },
     "execution_count": 697,
     "metadata": {},
     "output_type": "execute_result"
    }
   ],
   "source": [
    "result_clean.head()"
   ]
  },
  {
   "cell_type": "code",
   "execution_count": 698,
   "metadata": {},
   "outputs": [
    {
     "name": "stdout",
     "output_type": "stream",
     "text": [
      "<class 'pandas.core.frame.DataFrame'>\n",
      "Index: 516 entries, 1 to 40\n",
      "Data columns (total 8 columns):\n",
      "id (S)         511 non-null object\n",
      "company (S)    511 non-null object\n",
      "tweets         511 non-null object\n",
      "sentiments     511 non-null object\n",
      "keyword (S)    511 non-null object\n",
      "tweetId (N)    511 non-null object\n",
      "user (S)       511 non-null object\n",
      "userId (N)     511 non-null float64\n",
      "dtypes: float64(1), object(7)\n",
      "memory usage: 36.3+ KB\n"
     ]
    }
   ],
   "source": [
    "result_clean.info()"
   ]
  },
  {
   "cell_type": "code",
   "execution_count": 699,
   "metadata": {},
   "outputs": [
    {
     "data": {
      "text/plain": [
       "Index(['id (S)', 'company (S)', 'tweets', 'sentiments', 'keyword (S)',\n",
       "       'tweetId (N)', 'user (S)', 'userId (N)'],\n",
       "      dtype='object')"
      ]
     },
     "execution_count": 699,
     "metadata": {},
     "output_type": "execute_result"
    }
   ],
   "source": [
    "result_clean.columns"
   ]
  },
  {
   "cell_type": "markdown",
   "metadata": {},
   "source": [
    "## Data Analysis"
   ]
  },
  {
   "cell_type": "markdown",
   "metadata": {},
   "source": [
    "### Add tweet length for analysis"
   ]
  },
  {
   "cell_type": "code",
   "execution_count": 700,
   "metadata": {},
   "outputs": [
    {
     "name": "stderr",
     "output_type": "stream",
     "text": [
      "/Library/Frameworks/Python.framework/Versions/3.6/lib/python3.6/site-packages/ipykernel_launcher.py:1: SettingWithCopyWarning: \n",
      "A value is trying to be set on a copy of a slice from a DataFrame.\n",
      "Try using .loc[row_indexer,col_indexer] = value instead\n",
      "\n",
      "See the caveats in the documentation: http://pandas.pydata.org/pandas-docs/stable/indexing.html#indexing-view-versus-copy\n",
      "  \"\"\"Entry point for launching an IPython kernel.\n"
     ]
    }
   ],
   "source": [
    "result_clean['tweet_length'] = result_clean['tweets'].apply(str).apply(len)"
   ]
  },
  {
   "cell_type": "markdown",
   "metadata": {},
   "source": [
    "### Tweets per company"
   ]
  },
  {
   "cell_type": "code",
   "execution_count": 701,
   "metadata": {},
   "outputs": [
    {
     "data": {
      "text/plain": [
       "<matplotlib.axes._subplots.AxesSubplot at 0x119401518>"
      ]
     },
     "execution_count": 701,
     "metadata": {},
     "output_type": "execute_result"
    },
    {
     "data": {
      "image/png": "[encoded data removed]",
      "text/plain": [
       "<matplotlib.figure.Figure at 0x1160d8a20>"
      ]
     },
     "metadata": {},
     "output_type": "display_data"
    }
   ],
   "source": [
    "import seaborn as sns\n",
    "%matplotlib inline\n",
    "plt.figure(figsize=(15,3))\n",
    "sns.countplot(x='company (S)',data=result_clean,palette='deep')"
   ]
  },
  {
   "cell_type": "markdown",
   "metadata": {},
   "source": [
    "We can conclude that GEICO has more twitter activity than all the other insurance companies. "
   ]
  },
  {
   "cell_type": "code",
   "execution_count": 702,
   "metadata": {},
   "outputs": [
    {
     "data": {
      "text/html": [
       "<div>\n",
       "<style>\n",
       "    .dataframe thead tr:only-child th {\n",
       "        text-align: right;\n",
       "    }\n",
       "\n",
       "    .dataframe thead th {\n",
       "        text-align: left;\n",
       "    }\n",
       "\n",
       "    .dataframe tbody tr th {\n",
       "        vertical-align: top;\n",
       "    }\n",
       "</style>\n",
       "<table border=\"1\" class=\"dataframe\">\n",
       "  <thead>\n",
       "    <tr>\n",
       "      <th></th>\n",
       "      <th colspan=\"8\" halign=\"left\">tweet_length</th>\n",
       "      <th colspan=\"8\" halign=\"left\">userId (N)</th>\n",
       "    </tr>\n",
       "    <tr>\n",
       "      <th></th>\n",
       "      <th>count</th>\n",
       "      <th>mean</th>\n",
       "      <th>std</th>\n",
       "      <th>min</th>\n",
       "      <th>25%</th>\n",
       "      <th>50%</th>\n",
       "      <th>75%</th>\n",
       "      <th>max</th>\n",
       "      <th>count</th>\n",
       "      <th>mean</th>\n",
       "      <th>std</th>\n",
       "      <th>min</th>\n",
       "      <th>25%</th>\n",
       "      <th>50%</th>\n",
       "      <th>75%</th>\n",
       "      <th>max</th>\n",
       "    </tr>\n",
       "    <tr>\n",
       "      <th>sentiments</th>\n",
       "      <th></th>\n",
       "      <th></th>\n",
       "      <th></th>\n",
       "      <th></th>\n",
       "      <th></th>\n",
       "      <th></th>\n",
       "      <th></th>\n",
       "      <th></th>\n",
       "      <th></th>\n",
       "      <th></th>\n",
       "      <th></th>\n",
       "      <th></th>\n",
       "      <th></th>\n",
       "      <th></th>\n",
       "      <th></th>\n",
       "      <th></th>\n",
       "    </tr>\n",
       "  </thead>\n",
       "  <tbody>\n",
       "    <tr>\n",
       "      <th>negative</th>\n",
       "      <td>158.0</td>\n",
       "      <td>99.265823</td>\n",
       "      <td>30.378172</td>\n",
       "      <td>13.0</td>\n",
       "      <td>83.00</td>\n",
       "      <td>83.0</td>\n",
       "      <td>128.0</td>\n",
       "      <td>183.0</td>\n",
       "      <td>158.0</td>\n",
       "      <td>1.556934e+17</td>\n",
       "      <td>3.235619e+17</td>\n",
       "      <td>10369472.0</td>\n",
       "      <td>2.590260e+08</td>\n",
       "      <td>1.336939e+09</td>\n",
       "      <td>3.217931e+09</td>\n",
       "      <td>8.936034e+17</td>\n",
       "    </tr>\n",
       "    <tr>\n",
       "      <th>neutral</th>\n",
       "      <td>258.0</td>\n",
       "      <td>111.089147</td>\n",
       "      <td>29.971644</td>\n",
       "      <td>21.0</td>\n",
       "      <td>100.25</td>\n",
       "      <td>111.5</td>\n",
       "      <td>134.0</td>\n",
       "      <td>164.0</td>\n",
       "      <td>258.0</td>\n",
       "      <td>1.380480e+17</td>\n",
       "      <td>3.103918e+17</td>\n",
       "      <td>14738576.0</td>\n",
       "      <td>1.678325e+08</td>\n",
       "      <td>1.360273e+09</td>\n",
       "      <td>3.313962e+09</td>\n",
       "      <td>8.996746e+17</td>\n",
       "    </tr>\n",
       "    <tr>\n",
       "      <th>positive</th>\n",
       "      <td>95.0</td>\n",
       "      <td>108.421053</td>\n",
       "      <td>32.824024</td>\n",
       "      <td>30.0</td>\n",
       "      <td>85.00</td>\n",
       "      <td>111.0</td>\n",
       "      <td>134.0</td>\n",
       "      <td>164.0</td>\n",
       "      <td>95.0</td>\n",
       "      <td>1.378133e+17</td>\n",
       "      <td>3.089970e+17</td>\n",
       "      <td>14323863.0</td>\n",
       "      <td>7.284910e+07</td>\n",
       "      <td>5.295860e+08</td>\n",
       "      <td>2.674351e+09</td>\n",
       "      <td>8.940454e+17</td>\n",
       "    </tr>\n",
       "  </tbody>\n",
       "</table>\n",
       "</div>"
      ],
      "text/plain": [
       "           tweet_length                                                     \\\n",
       "                  count        mean        std   min     25%    50%    75%   \n",
       "sentiments                                                                   \n",
       "negative          158.0   99.265823  30.378172  13.0   83.00   83.0  128.0   \n",
       "neutral           258.0  111.089147  29.971644  21.0  100.25  111.5  134.0   \n",
       "positive           95.0  108.421053  32.824024  30.0   85.00  111.0  134.0   \n",
       "\n",
       "                  userId (N)                                          \\\n",
       "              max      count          mean           std         min   \n",
       "sentiments                                                             \n",
       "negative    183.0      158.0  1.556934e+17  3.235619e+17  10369472.0   \n",
       "neutral     164.0      258.0  1.380480e+17  3.103918e+17  14738576.0   \n",
       "positive    164.0       95.0  1.378133e+17  3.089970e+17  14323863.0   \n",
       "\n",
       "                                                                    \n",
       "                     25%           50%           75%           max  \n",
       "sentiments                                                          \n",
       "negative    2.590260e+08  1.336939e+09  3.217931e+09  8.936034e+17  \n",
       "neutral     1.678325e+08  1.360273e+09  3.313962e+09  8.996746e+17  \n",
       "positive    7.284910e+07  5.295860e+08  2.674351e+09  8.940454e+17  "
      ]
     },
     "execution_count": 702,
     "metadata": {},
     "output_type": "execute_result"
    }
   ],
   "source": [
    "result_clean.groupby('sentiments').describe()"
   ]
  },
  {
   "cell_type": "code",
   "execution_count": null,
   "metadata": {},
   "outputs": [],
   "source": []
  },
  {
   "cell_type": "markdown",
   "metadata": {},
   "source": [
    "### Tweet length per sentiment"
   ]
  },
  {
   "cell_type": "code",
   "execution_count": 703,
   "metadata": {},
   "outputs": [
    {
     "data": {
      "text/plain": [
       "<seaborn.axisgrid.FacetGrid at 0x10de1a898>"
      ]
     },
     "execution_count": 703,
     "metadata": {},
     "output_type": "execute_result"
    },
    {
     "data": {
      "image/png": "[encoded data removed]",
      "text/plain": [
       "<matplotlib.figure.Figure at 0x1193fce10>"
      ]
     },
     "metadata": {},
     "output_type": "display_data"
    }
   ],
   "source": [
    "import matplotlib.pyplot as plt\n",
    "sns.set_style('white')\n",
    "%matplotlib inline\n",
    "g = sns.FacetGrid(result_clean,col='sentiments')\n",
    "g.map(plt.hist,'tweet_length')"
   ]
  },
  {
   "cell_type": "markdown",
   "metadata": {},
   "source": [
    "Short tweets below 20 characters tend to positive, tweets in the area of 18 to 25 tend to be neutral"
   ]
  },
  {
   "cell_type": "markdown",
   "metadata": {},
   "source": [
    "### Sentiment per Company"
   ]
  },
  {
   "cell_type": "code",
   "execution_count": 704,
   "metadata": {},
   "outputs": [
    {
     "data": {
      "text/plain": [
       "array(['GEICO', 'State Farm', 'FarmersInsuranceGroup', 'AIGInsurance',\n",
       "       'Liberty Mutual', 'theHartford', nan, 'ErieInsurance'], dtype=object)"
      ]
     },
     "execution_count": 704,
     "metadata": {},
     "output_type": "execute_result"
    }
   ],
   "source": [
    "result_clean['company (S)'].unique()\n"
   ]
  },
  {
   "cell_type": "code",
   "execution_count": 705,
   "metadata": {},
   "outputs": [
    {
     "data": {
      "text/plain": [
       "company (S)            sentiments\n",
       "AIGInsurance           negative       15\n",
       "                       neutral        15\n",
       "                       positive        8\n",
       "ErieInsurance          neutral         1\n",
       "FarmersInsuranceGroup  negative        1\n",
       "                       neutral        40\n",
       "                       positive        8\n",
       "GEICO                  negative      118\n",
       "                       neutral        76\n",
       "                       positive       42\n",
       "Liberty Mutual         neutral        19\n",
       "                       positive        7\n",
       "State Farm             negative       23\n",
       "                       neutral       102\n",
       "                       positive       30\n",
       "theHartford            negative        1\n",
       "                       neutral         5\n",
       "Name: sentiments, dtype: int64"
      ]
     },
     "execution_count": 705,
     "metadata": {},
     "output_type": "execute_result"
    }
   ],
   "source": [
    "# rcg=result_clean.groupby(['tweets', ])['tweets'].unique()\n",
    "# len(rcg.index)\n",
    "# rcg\n",
    "result_clean.groupby(['company (S)','sentiments'])['sentiments'].count()"
   ]
  },
  {
   "cell_type": "code",
   "execution_count": 706,
   "metadata": {},
   "outputs": [
    {
     "data": {
      "text/plain": [
       "array([[<matplotlib.axes._subplots.AxesSubplot object at 0x119401c50>,\n",
       "        <matplotlib.axes._subplots.AxesSubplot object at 0x11c7aaf28>,\n",
       "        <matplotlib.axes._subplots.AxesSubplot object at 0x11ca05390>],\n",
       "       [<matplotlib.axes._subplots.AxesSubplot object at 0x1146d72e8>,\n",
       "        <matplotlib.axes._subplots.AxesSubplot object at 0x116e572e8>,\n",
       "        <matplotlib.axes._subplots.AxesSubplot object at 0x116e57358>],\n",
       "       [<matplotlib.axes._subplots.AxesSubplot object at 0x1197614a8>,\n",
       "        <matplotlib.axes._subplots.AxesSubplot object at 0x11ca15d68>,\n",
       "        <matplotlib.axes._subplots.AxesSubplot object at 0x119777ac8>]], dtype=object)"
      ]
     },
     "execution_count": 706,
     "metadata": {},
     "output_type": "execute_result"
    },
    {
     "data": {
      "image/png": "[encoded data removed]",
      "text/plain": [
       "<matplotlib.figure.Figure at 0x1191314e0>"
      ]
     },
     "metadata": {},
     "output_type": "display_data"
    }
   ],
   "source": [
    "result_clean.hist(column='sentiments', by='company (S)', bins=5, figsize=(12,12))"
   ]
  },
  {
   "cell_type": "markdown",
   "metadata": {},
   "source": [
    "Geico and AIG get a lot of negative tweets in comparision to their positive tweets. "
   ]
  },
  {
   "cell_type": "markdown",
   "metadata": {},
   "source": [
    "### Functions to provide data analysis"
   ]
  },
  {
   "cell_type": "code",
   "execution_count": 707,
   "metadata": {},
   "outputs": [],
   "source": [
    "def text_process(mess):\n",
    "    \"\"\"\n",
    "    1. remove punc\n",
    "    2.remove stop words\n",
    "    3. return list of clean text words\n",
    "    \"\"\"\n",
    "    nopunc = ''.join([c for c in mess if c not in  string.punctuation])\n",
    "    nostop = ' '.join([c for c in nopunc.split() if c.lower() not in stopwords.words('english')\n",
    "                       and not c.startswith('@') and c != 'RT' and c.lower() != 'geico' ])\n",
    "    return nostop"
   ]
  },
  {
   "cell_type": "code",
   "execution_count": 708,
   "metadata": {},
   "outputs": [],
   "source": [
    "def removeit(mess):\n",
    "    \"\"\"\n",
    "    1. remove punc\n",
    "    2.remove stop words\n",
    "    3. Take out common words\n",
    "    \"\"\"\n",
    "    nopunc = ''.join([c for c in mess if c not in  string.punctuation])\n",
    "    nostop = [c for c in nopunc.split() if c.lower() not in stopwords.words('english') \n",
    "                       and not c.startswith('@') and c != 'RT' and  c.lower() != 'n' and \n",
    "                       c.lower() != 'koreas' and c.lower() != '1st' and c.lower() != 'target' and \n",
    "                       c.lower() != 'b' and c.lower() != 'dude' and c.lower() != 'makin' and \n",
    "                       c.lower() != 'tha' and c.lower() != 'geico' and c.lower() != 'soundcloud' and \n",
    "                       c.lower() != 'ads' and c.lower() !='killmefam' and c.lower()!='rt' and \n",
    "                       c.lower() != 'statefarm' and c.lower() != 'aig']\n",
    "#     words = ''.join([word for word in nostop if 'RT' not in word and not word.startswith('@') and word != 'RT' and word !='N Koreas 1st Target should b the dude makin tha geico soundcloud ads' ])\n",
    "    return nostop"
   ]
  },
  {
   "cell_type": "markdown",
   "metadata": {},
   "source": [
    "### Count words per sentiment"
   ]
  },
  {
   "cell_type": "code",
   "execution_count": 709,
   "metadata": {},
   "outputs": [
    {
     "ename": "IndentationError",
     "evalue": "unexpected indent (<ipython-input-709-057282ff0bed>, line 3)",
     "output_type": "error",
     "traceback": [
      "\u001b[0;36m  File \u001b[0;32m\"<ipython-input-709-057282ff0bed>\"\u001b[0;36m, line \u001b[0;32m3\u001b[0m\n\u001b[0;31m    '''We are going to filter the file per sentiment'''\u001b[0m\n\u001b[0m    ^\u001b[0m\n\u001b[0;31mIndentationError\u001b[0m\u001b[0;31m:\u001b[0m unexpected indent\n"
     ]
    }
   ],
   "source": [
    "from collections import Counter\n",
    "from nltk.corpus import stopwords\n",
    " '''We are going to filter the file per sentiment'''\n",
    "results_negative = result_clean[result_clean['sentiments']=='negative']\n",
    "results_neutral = result_clean[result_clean['sentiments']=='neutral']\n",
    "results_positive = result_clean[result_clean['sentiments']=='positive']\n",
    "results_negative['tweets'].apply(text_process)\n",
    "results_neutral['tweets'].apply(text_process)\n",
    "results_positive['tweets'].apply(text_process).head()\n"
   ]
  },
  {
   "cell_type": "markdown",
   "metadata": {},
   "source": [
    "Function to visualize each dominant word per sentiment"
   ]
  },
  {
   "cell_type": "code",
   "execution_count": null,
   "metadata": {},
   "outputs": [],
   "source": [
    "from wordcloud import WordCloud,STOPWORDS\n",
    "def wordcloudit(width=3000,height=2500,dataframe=results_negative, background_color='black', tweet='tweets' ):\n",
    "    \"\"\"This Function will the the following:\n",
    "        1. Get a series of tweets from a dataframe and change it to one string\n",
    "        2. Clean the string by removing stopwords and other undesired words that don't have any weight on sentiments\n",
    "        3. Create a wordcount per cleaned word and visualize\n",
    "        \n",
    "    Parameters Values are:\n",
    "            width is the width of imagae of the wordcloud. Default=3000\n",
    "            height is the width of imagae of the wordcloud. Default=2500\n",
    "            dataframe is the Dataframe to be analyzed. Default=results_negative\n",
    "            background_color is the color of the backgroud of the image of the wordcloud. Default='black'\n",
    "            tweet is the column name of the tweets to be analyzed. Default='tweets'\n",
    "            \"\"\"\n",
    "    nw= ' '.join(dataframe[tweet])\n",
    "    cleaned_neg = \" \".join([word for word in nw.split()\n",
    "                            if 'http' not in word\n",
    "                                and not word.startswith('@')\n",
    "                                and word != 'RT'\n",
    "                            ])\n",
    "    wordcloud = WordCloud(stopwords=STOPWORDS,\n",
    "                      background_color=background_color,\n",
    "                      width=width,\n",
    "                      height=height\n",
    "                     ).generate(cleaned_neg)\n",
    "    \n",
    "    plt.figure(1,figsize=(12, 12))\n",
    "    plt.imshow(wordcloud)\n",
    "    plt.axis('off')\n",
    "    plt.show()\n",
    "    "
   ]
  },
  {
   "cell_type": "code",
   "execution_count": null,
   "metadata": {},
   "outputs": [],
   "source": [
    "neg_words = Counter(\" \".join(results_negative['tweets'].apply(text_process)).split()).most_common(5)\n",
    "neg_words = pd.DataFrame.from_records(neg_words, columns=['words','count' ])\n",
    "print(neg_words.head())\n",
    "from wordcloud import WordCloud,STOPWORDS\n",
    "wordcloudit(dataframe=results_negative, background_color='red')"
   ]
  },
  {
   "cell_type": "markdown",
   "metadata": {},
   "source": [
    "Dominant words with an outcome of negative sentiment"
   ]
  },
  {
   "cell_type": "code",
   "execution_count": null,
   "metadata": {},
   "outputs": [],
   "source": [
    "neut_words = Counter(\" \".join(results_neutral['tweets'].apply(text_process)).split()).most_common(5)\n",
    "neut_words = pd.DataFrame.from_records(neut_words, columns=['words','count' ])\n",
    "print(neut_words)\n",
    "wordcloudit(dataframe=results_neutral, background_color='white', tweet='tweets')"
   ]
  },
  {
   "cell_type": "markdown",
   "metadata": {},
   "source": [
    "Dominant words with an outcome of neutral sentiment"
   ]
  },
  {
   "cell_type": "code",
   "execution_count": null,
   "metadata": {},
   "outputs": [],
   "source": [
    "pos_words = Counter(\" \".join(results_positive['tweets'].apply(text_process)).split()).most_common(5)\n",
    "pos_words = pd.DataFrame.from_records(pos_words, columns=['words','count' ])\n",
    "print(pos_words)\n",
    "wordcloudit(dataframe=results_positive, background_color='green', tweet='tweets')"
   ]
  },
  {
   "cell_type": "markdown",
   "metadata": {},
   "source": [
    "Dominant words with an outcome of positive sentiment"
   ]
  },
  {
   "cell_type": "markdown",
   "metadata": {},
   "source": [
    "## Preparing dataset for Machine Learning "
   ]
  },
  {
   "cell_type": "code",
   "execution_count": null,
   "metadata": {},
   "outputs": [],
   "source": [
    "g = result_clean[['tweets', 'tweet_length']]\n",
    "z = cv.fit_transform(g)\n",
    "g['tweets'].apply(str)\n",
    "g['tweet_length'].apply(str)\n",
    "# g['tweets'].apply(str).apply(text_process).apply(lambda x: ''.join(x), axis=1)\n",
    "g['tweet_len']= g[['tweets','tweet_length']].apply(str).apply(lambda x: ''.join(x))\n",
    "g\n",
    "\n"
   ]
  },
  {
   "cell_type": "code",
   "execution_count": null,
   "metadata": {},
   "outputs": [],
   "source": [
    "x = result_clean['tweets'].apply(str)\n",
    "x.shape"
   ]
  },
  {
   "cell_type": "code",
   "execution_count": null,
   "metadata": {},
   "outputs": [],
   "source": [
    "y = result_clean['sentiments'].apply(str)\n",
    "y.shape"
   ]
  },
  {
   "cell_type": "markdown",
   "metadata": {},
   "source": [
    "Count Vectorizer converts a collection of words into number representations, example below"
   ]
  },
  {
   "cell_type": "code",
   "execution_count": null,
   "metadata": {},
   "outputs": [],
   "source": [
    "from sklearn.feature_extraction.text import CountVectorizer\n",
    "cv = CountVectorizer()\n",
    "example = cv.fit_transform([\"hi, me and you hi\"])\n",
    "print(example)"
   ]
  },
  {
   "cell_type": "code",
   "execution_count": null,
   "metadata": {
    "scrolled": true
   },
   "outputs": [],
   "source": [
    "X = cv.fit_transform(x)\n",
    "X.shape"
   ]
  },
  {
   "cell_type": "markdown",
   "metadata": {},
   "source": [
    "**This function will take punctuations and stopwords out of the tweets**"
   ]
  },
  {
   "cell_type": "code",
   "execution_count": null,
   "metadata": {},
   "outputs": [],
   "source": [
    "def text_process(mess):\n",
    "    \"\"\"\n",
    "    1. remove punc\n",
    "    2.remove stop words\n",
    "    3. return list of clean text words\n",
    "    \"\"\"\n",
    "    nopunc = ''.join([c for c in mess if c not in  string.punctuation])\n",
    "    nostop = [c for c in nopunc.split() if c.lower() not in stopwords.words('english')]\n",
    "    return nostop"
   ]
  },
  {
   "cell_type": "markdown",
   "metadata": {},
   "source": [
    "**This method will split training and testing datasets**"
   ]
  },
  {
   "cell_type": "code",
   "execution_count": null,
   "metadata": {},
   "outputs": [],
   "source": [
    "from sklearn.model_selection import train_test_split\n",
    "X_train, X_test, y_train, y_test = train_test_split(X, y, test_size=.30, random_state=101)"
   ]
  },
  {
   "cell_type": "markdown",
   "metadata": {},
   "source": [
    "The test size is 30% of the filtered dataset, and the training is the rest 70%. Note this is the default split."
   ]
  },
  {
   "cell_type": "markdown",
   "metadata": {},
   "source": [
    "# Multinomial Naive Bayes without Tfidf"
   ]
  },
  {
   "cell_type": "markdown",
   "metadata": {},
   "source": [
    "**Multinomial Naive Bayes models the word counts and adjusts the formula to word counts. **"
   ]
  },
  {
   "cell_type": "code",
   "execution_count": null,
   "metadata": {},
   "outputs": [],
   "source": [
    "from sklearn.naive_bayes import MultinomialNB\n",
    "nb = MultinomialNB()\n",
    "nb.fit(X_train,y_train)"
   ]
  },
  {
   "cell_type": "markdown",
   "metadata": {},
   "source": [
    "** Use X_train (70% of tweets) and y_train (70% of sentiment) to train the model**"
   ]
  },
  {
   "cell_type": "code",
   "execution_count": null,
   "metadata": {},
   "outputs": [],
   "source": [
    "nb.fit(X_train,y_train)"
   ]
  },
  {
   "cell_type": "markdown",
   "metadata": {},
   "source": [
    "**Predict X_test (30% of the tweets) that were not used to train the model**"
   ]
  },
  {
   "cell_type": "code",
   "execution_count": null,
   "metadata": {},
   "outputs": [],
   "source": [
    "print(type(X_test))"
   ]
  },
  {
   "cell_type": "code",
   "execution_count": null,
   "metadata": {},
   "outputs": [],
   "source": [
    "predictions = nb.predict(X_test)"
   ]
  },
  {
   "cell_type": "code",
   "execution_count": null,
   "metadata": {},
   "outputs": [],
   "source": [
    "from sklearn.metrics import confusion_matrix,classification_report"
   ]
  },
  {
   "cell_type": "code",
   "execution_count": null,
   "metadata": {},
   "outputs": [],
   "source": [
    "print(confusion_matrix(y_test,predictions))\n",
    "print('\\n')\n",
    "print(classification_report(y_test,predictions))"
   ]
  },
  {
   "cell_type": "markdown",
   "metadata": {},
   "source": [
    "# Multinomial Naive Bayes with pipeline of Count Vectorizer and Tfidf"
   ]
  },
  {
   "cell_type": "markdown",
   "metadata": {},
   "source": [
    "**Create a pipeline**"
   ]
  },
  {
   "cell_type": "markdown",
   "metadata": {},
   "source": [
    "Import Tfidf Transformer which counts words and weights their effects on the outcome \n",
    "\n",
    "Import stopwords, words that donot have any value example, is, he or has\n",
    "\n",
    "Import Pipeline which create a pipeline for a dataset."
   ]
  },
  {
   "cell_type": "code",
   "execution_count": null,
   "metadata": {},
   "outputs": [],
   "source": [
    "from sklearn.feature_extraction.text import  TfidfTransformer\n",
    "from sklearn.pipeline import Pipeline\n",
    "from nltk.corpus import stopwords"
   ]
  },
  {
   "cell_type": "code",
   "execution_count": null,
   "metadata": {},
   "outputs": [],
   "source": [
    "pipeline_MultinomialNB = Pipeline([\n",
    "    ('bow', CountVectorizer(analyzer=text_process)),  # strings to token integer counts\n",
    "    ('tfidf', TfidfTransformer()),  # integer counts to weighted TF-IDF scores\n",
    "    ('classifier', MultinomialNB()),  # train on TF-IDF vectors w/ Naive Bayes classifier\n",
    "])"
   ]
  },
  {
   "cell_type": "markdown",
   "metadata": {},
   "source": [
    "Pipeline is a method employed to streamline the data pre-processing and applying the Machine Learning model"
   ]
  },
  {
   "cell_type": "markdown",
   "metadata": {},
   "source": [
    "**Define the tweets as 'X' and the sentiments as 'y' to split **"
   ]
  },
  {
   "cell_type": "code",
   "execution_count": null,
   "metadata": {},
   "outputs": [],
   "source": [
    "X = result_clean['tweets'].apply(str)\n",
    "y = result_clean['sentiments'].apply(str)\n",
    "X_train, X_test, y_train, y_test = train_test_split(X, y, test_size=.30, random_state=101)"
   ]
  },
  {
   "cell_type": "markdown",
   "metadata": {},
   "source": [
    "The test size is 30% of the filtered dataset, and the training is the rest 70%. Note this is the default split."
   ]
  },
  {
   "cell_type": "code",
   "execution_count": null,
   "metadata": {},
   "outputs": [],
   "source": [
    "pipeline_MultinomialNB.fit(X_train,y_train)"
   ]
  },
  {
   "cell_type": "code",
   "execution_count": null,
   "metadata": {},
   "outputs": [],
   "source": [
    "# from sklearn.externals import joblib\n",
    "# joblib.dump(pipeline_MultinomialNB, '/Users/dougmengistu/Documents/jobnb2.pickle') "
   ]
  },
  {
   "cell_type": "code",
   "execution_count": null,
   "metadata": {},
   "outputs": [],
   "source": [
    "predictions_MultinomialNB = pipeline_MultinomialNB.predict(X_test)"
   ]
  },
  {
   "cell_type": "code",
   "execution_count": null,
   "metadata": {},
   "outputs": [],
   "source": [
    "print(confusion_matrix(y_test,predictions_MultinomialNB))\n"
   ]
  },
  {
   "cell_type": "markdown",
   "metadata": {},
   "source": [
    "Confusion matrix displays how many of the predictions are wrong/correct and where the wrong predictions were misplaced. In this case both columns and indexes are labeled [nan,negative,neutral,positive]"
   ]
  },
  {
   "cell_type": "code",
   "execution_count": null,
   "metadata": {},
   "outputs": [],
   "source": [
    "print(classification_report(y_test,predictions_MultinomialNB))"
   ]
  },
  {
   "cell_type": "markdown",
   "metadata": {},
   "source": [
    "# Random Forest Classification Method "
   ]
  },
  {
   "cell_type": "code",
   "execution_count": null,
   "metadata": {},
   "outputs": [],
   "source": [
    "from sklearn.ensemble import RandomForestClassifier"
   ]
  },
  {
   "cell_type": "code",
   "execution_count": null,
   "metadata": {},
   "outputs": [],
   "source": [
    "pipeline_RandomForestClassifier = Pipeline([\n",
    "    ('bow', CountVectorizer(analyzer=text_process)),  # strings to token integer counts\n",
    "    ('tfidf', TfidfTransformer()),  # integer counts to weighted TF-IDF scores\n",
    "    ('classifier', RandomForestClassifier()),  # train on TF-IDF vectors w/ using micro Decision Tree classifier\n",
    "])"
   ]
  },
  {
   "cell_type": "code",
   "execution_count": null,
   "metadata": {},
   "outputs": [],
   "source": [
    "X = result_clean['tweets'].apply(str)\n",
    "y = result_clean['sentiments'].apply(str)\n",
    "X_train, X_test, y_train, y_test = train_test_split(X, y,test_size=0.3,random_state=101)"
   ]
  },
  {
   "cell_type": "code",
   "execution_count": null,
   "metadata": {},
   "outputs": [],
   "source": [
    "pipeline_RandomForestClassifier.fit(X_train,y_train)"
   ]
  },
  {
   "cell_type": "code",
   "execution_count": null,
   "metadata": {},
   "outputs": [],
   "source": [
    "predictions_RandomForestClassifier = pipeline_RandomForestClassifier.predict(X_test)"
   ]
  },
  {
   "cell_type": "code",
   "execution_count": null,
   "metadata": {},
   "outputs": [],
   "source": [
    "print(confusion_matrix(y_test,predictions_RandomForestClassifier))\n",
    "print(classification_report(y_test,predictions_RandomForestClassifier))"
   ]
  },
  {
   "cell_type": "markdown",
   "metadata": {},
   "source": [
    "# SVC"
   ]
  },
  {
   "cell_type": "code",
   "execution_count": null,
   "metadata": {},
   "outputs": [],
   "source": [
    "from sklearn.svm import SVC\n",
    "from sklearn.grid_search import GridSearchCV\n",
    "param_grid = {'C':[0.1, 1,10,50,70,100,1000], 'gamma':[1,0.1,0.05,0.01,0.005,0.001,0.0005,0.0001]}\n",
    "X = result_clean['tweets'].apply(str)\n",
    "y = result_clean['sentiments'].apply(str)\n",
    "X_train, X_test, y_train, y_test = train_test_split(X, y,test_size=0.3,random_state=101)"
   ]
  },
  {
   "cell_type": "code",
   "execution_count": null,
   "metadata": {},
   "outputs": [],
   "source": [
    "pipeline_grid = Pipeline([\n",
    "        ('bow', CountVectorizer(analyzer=text_process)),  # strings to token integer counts\n",
    "    ('tfidf', TfidfTransformer()),  # integer counts to weighted TF-IDF scores\n",
    "    ('classifier', GridSearchCV(SVC(),param_grid)),  # train on TF-IDF vectors w/ Naive Bayes classifier\n",
    "])"
   ]
  },
  {
   "cell_type": "code",
   "execution_count": null,
   "metadata": {},
   "outputs": [],
   "source": [
    "pipeline_grid.fit(X_train, y_train)"
   ]
  },
  {
   "cell_type": "code",
   "execution_count": null,
   "metadata": {},
   "outputs": [],
   "source": [
    "predictions_grid = pipeline_grid.predict(X_test)"
   ]
  },
  {
   "cell_type": "code",
   "execution_count": null,
   "metadata": {},
   "outputs": [],
   "source": [
    "print(confusion_matrix(y_test,predictions_grid))\n",
    "print('\\n')\n",
    "print(classification_report(y_test,predictions_grid))"
   ]
  },
  {
   "cell_type": "code",
   "execution_count": null,
   "metadata": {},
   "outputs": [],
   "source": []
  },
  {
   "cell_type": "code",
   "execution_count": null,
   "metadata": {},
   "outputs": [],
   "source": []
  }
 ],
 "metadata": {
  "kernelspec": {
   "display_name": "Python 3",
   "language": "python",
   "name": "python3"
  },
  "language_info": {
   "codemirror_mode": {
    "name": "ipython",
    "version": 3
   },
   "file_extension": ".py",
   "mimetype": "text/x-python",
   "name": "python",
   "nbconvert_exporter": "python",
   "pygments_lexer": "ipython3",
   "version": "3.6.3"
  }
 },
 "nbformat": 4,
 "nbformat_minor": 1
}
