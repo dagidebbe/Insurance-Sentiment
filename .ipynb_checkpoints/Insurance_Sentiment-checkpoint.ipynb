{
 "cells": [
  {
   "cell_type": "code",
   "execution_count": 1,
   "metadata": {},
   "outputs": [
    {
     "name": "stderr",
     "output_type": "stream",
     "text": [
      "/Library/Frameworks/Python.framework/Versions/3.6/lib/python3.6/site-packages/sklearn/cross_validation.py:41: DeprecationWarning: This module was deprecated in version 0.18 in favor of the model_selection module into which all the refactored classes and functions are moved. Also note that the interface of the new CV iterators are different from that of this module. This module will be removed in 0.20.\n",
      "  \"This module will be removed in 0.20.\", DeprecationWarning)\n"
     ]
    }
   ],
   "source": [
    "import pandas as pd\n",
    "import numpy as np\n",
    "import matplotlib.pyplot as plt\n",
    "import seaborn as sns\n",
    "from sklearn.cross_validation import train_test_split\n",
    "import string"
   ]
  },
  {
   "cell_type": "markdown",
   "metadata": {},
   "source": [
    "## Get the Data"
   ]
  },
  {
   "cell_type": "markdown",
   "metadata": {},
   "source": [
    "**Get data**"
   ]
  },
  {
   "cell_type": "code",
   "execution_count": 72,
   "metadata": {},
   "outputs": [],
   "source": [
    "df1 = pd.read_csv('/Users/dougmengistu/Documents/tweet1.csv')\n",
    "df2 = pd.read_csv('/Users/dougmengistu/Documents/tweet2.csv')\n",
    "df3 = pd.read_csv('/Users/dougmengistu/Documents/tweet3.csv')\n",
    "df4 = pd.read_csv('/Users/dougmengistu/Documents/tweet4.csv')\n",
    "df5 = pd.read_csv('/Users/dougmengistu/Documents/tweet5.csv')\n",
    "df6 = pd.read_csv('/Users/dougmengistu/Documents/tweet6.csv')\n",
    "df7 = pd.read_csv('/Users/dougmengistu/Documents/tweet7.csv')\n",
    "df8 = pd.read_csv('/Users/dougmengistu/Documents/tweet8.csv')\n",
    "df9 = pd.read_csv('/Users/dougmengistu/Documents/tweet9.csv')"
   ]
  },
  {
   "cell_type": "markdown",
   "metadata": {},
   "source": [
    "**Concatinate the dataframes**"
   ]
  },
  {
   "cell_type": "code",
   "execution_count": 3,
   "metadata": {},
   "outputs": [],
   "source": [
    "frames = [df1,df2,df3,df4,df5,df6,df7,df8,df9]"
   ]
  },
  {
   "cell_type": "code",
   "execution_count": 4,
   "metadata": {},
   "outputs": [],
   "source": [
    "result = pd.concat(frames)"
   ]
  },
  {
   "cell_type": "code",
   "execution_count": 6,
   "metadata": {},
   "outputs": [],
   "source": [
    "result = result.drop(labels='sentiment (S)', axis=1)"
   ]
  },
  {
   "cell_type": "code",
   "execution_count": 7,
   "metadata": {},
   "outputs": [
    {
     "data": {
      "text/plain": [
       "846"
      ]
     },
     "execution_count": 7,
     "metadata": {},
     "output_type": "execute_result"
    }
   ],
   "source": [
    "len(result.index)"
   ]
  },
  {
   "cell_type": "markdown",
   "metadata": {},
   "source": [
    "**DATA**"
   ]
  },
  {
   "cell_type": "code",
   "execution_count": 9,
   "metadata": {
    "scrolled": true
   },
   "outputs": [
    {
     "data": {
      "text/html": [
       "<div>\n",
       "<style>\n",
       "    .dataframe thead tr:only-child th {\n",
       "        text-align: right;\n",
       "    }\n",
       "\n",
       "    .dataframe thead th {\n",
       "        text-align: left;\n",
       "    }\n",
       "\n",
       "    .dataframe tbody tr th {\n",
       "        vertical-align: top;\n",
       "    }\n",
       "</style>\n",
       "<table border=\"1\" class=\"dataframe\">\n",
       "  <thead>\n",
       "    <tr style=\"text-align: right;\">\n",
       "      <th></th>\n",
       "      <th>id (S)</th>\n",
       "      <th>company (S)</th>\n",
       "      <th>content (S)</th>\n",
       "      <th>createdAt (S)</th>\n",
       "      <th>keyword (S)</th>\n",
       "      <th>tweetId (N)</th>\n",
       "      <th>user (S)</th>\n",
       "      <th>userId (N)</th>\n",
       "    </tr>\n",
       "  </thead>\n",
       "  <tbody>\n",
       "    <tr>\n",
       "      <th>0</th>\n",
       "      <td>cf842bca-b58e-4686-95e3-43f6f63c0a49</td>\n",
       "      <td>AIGInsurance</td>\n",
       "      <td>@aigkenham @AiG God says you don't need to wor...</td>\n",
       "      <td>not</td>\n",
       "      <td>AIG</td>\n",
       "      <td>8.99687e+17</td>\n",
       "      <td>AidanStreet</td>\n",
       "      <td>4.807950e+07</td>\n",
       "    </tr>\n",
       "    <tr>\n",
       "      <th>1</th>\n",
       "      <td>b7701300-52e2-4d30-abce-d38829cda22c</td>\n",
       "      <td>GEICO</td>\n",
       "      <td>RT @FactsOnFox: .@GEICO Your ads on #FoxNews s...</td>\n",
       "      <td>negative</td>\n",
       "      <td>GEICO</td>\n",
       "      <td>8.97936e+17</td>\n",
       "      <td>AtheComm</td>\n",
       "      <td>8.776025e+17</td>\n",
       "    </tr>\n",
       "    <tr>\n",
       "      <th>2</th>\n",
       "      <td>13fdb266-95b3-4e65-9c3f-205f5ad9259f</td>\n",
       "      <td>GEICO</td>\n",
       "      <td>RT @killmefam: N Koreas 1st Target should b th...</td>\n",
       "      <td>negative</td>\n",
       "      <td>GEICO</td>\n",
       "      <td>8.99651e+17</td>\n",
       "      <td>woezyb</td>\n",
       "      <td>7.070237e+17</td>\n",
       "    </tr>\n",
       "    <tr>\n",
       "      <th>3</th>\n",
       "      <td>c1770d7f-9209-42f7-9c26-ba90f1e4d786</td>\n",
       "      <td>GEICO</td>\n",
       "      <td>@geico #skytypers lined up https://t.co/JaUoyA...</td>\n",
       "      <td>neutral</td>\n",
       "      <td>GEICO</td>\n",
       "      <td>8.99659e+17</td>\n",
       "      <td>acpresspamela</td>\n",
       "      <td>7.866205e+07</td>\n",
       "    </tr>\n",
       "    <tr>\n",
       "      <th>4</th>\n",
       "      <td>078d1960-740f-427d-a975-de1cdc0450ee</td>\n",
       "      <td>GEICO</td>\n",
       "      <td>RT @killmefam: N Koreas 1st Target should b th...</td>\n",
       "      <td>negative</td>\n",
       "      <td>GEICO</td>\n",
       "      <td>8.99641e+17</td>\n",
       "      <td>Bar3lyL0gical</td>\n",
       "      <td>4.124504e+09</td>\n",
       "    </tr>\n",
       "  </tbody>\n",
       "</table>\n",
       "</div>"
      ],
      "text/plain": [
       "                                 id (S)   company (S)  \\\n",
       "0  cf842bca-b58e-4686-95e3-43f6f63c0a49  AIGInsurance   \n",
       "1  b7701300-52e2-4d30-abce-d38829cda22c         GEICO   \n",
       "2  13fdb266-95b3-4e65-9c3f-205f5ad9259f         GEICO   \n",
       "3  c1770d7f-9209-42f7-9c26-ba90f1e4d786         GEICO   \n",
       "4  078d1960-740f-427d-a975-de1cdc0450ee         GEICO   \n",
       "\n",
       "                                         content (S) createdAt (S)  \\\n",
       "0  @aigkenham @AiG God says you don't need to wor...           not   \n",
       "1  RT @FactsOnFox: .@GEICO Your ads on #FoxNews s...      negative   \n",
       "2  RT @killmefam: N Koreas 1st Target should b th...      negative   \n",
       "3  @geico #skytypers lined up https://t.co/JaUoyA...       neutral   \n",
       "4  RT @killmefam: N Koreas 1st Target should b th...      negative   \n",
       "\n",
       "  keyword (S)  tweetId (N)       user (S)    userId (N)  \n",
       "0         AIG  8.99687e+17    AidanStreet  4.807950e+07  \n",
       "1       GEICO  8.97936e+17       AtheComm  8.776025e+17  \n",
       "2       GEICO  8.99651e+17         woezyb  7.070237e+17  \n",
       "3       GEICO  8.99659e+17  acpresspamela  7.866205e+07  \n",
       "4       GEICO  8.99641e+17  Bar3lyL0gical  4.124504e+09  "
      ]
     },
     "execution_count": 9,
     "metadata": {},
     "output_type": "execute_result"
    }
   ],
   "source": [
    "result.head()"
   ]
  },
  {
   "cell_type": "markdown",
   "metadata": {},
   "source": [
    "**Filter dataset**"
   ]
  },
  {
   "cell_type": "code",
   "execution_count": 10,
   "metadata": {},
   "outputs": [],
   "source": [
    "result_clean = result[(result['createdAt (S)'] != 'not') | (result['createdAt (S)'] == 'nan')]"
   ]
  },
  {
   "cell_type": "code",
   "execution_count": 14,
   "metadata": {},
   "outputs": [
    {
     "name": "stderr",
     "output_type": "stream",
     "text": [
      "/Library/Frameworks/Python.framework/Versions/3.6/lib/python3.6/site-packages/pandas/core/frame.py:2746: SettingWithCopyWarning: \n",
      "A value is trying to be set on a copy of a slice from a DataFrame\n",
      "\n",
      "See the caveats in the documentation: http://pandas.pydata.org/pandas-docs/stable/indexing.html#indexing-view-versus-copy\n",
      "  **kwargs)\n"
     ]
    }
   ],
   "source": [
    "result_clean.rename(index=str, columns={\"content (S)\": \"tweets\", \"createdAt (S)\":\"sentiments\"}, inplace=True)"
   ]
  },
  {
   "cell_type": "code",
   "execution_count": 15,
   "metadata": {},
   "outputs": [
    {
     "data": {
      "text/plain": [
       "516"
      ]
     },
     "execution_count": 15,
     "metadata": {},
     "output_type": "execute_result"
    }
   ],
   "source": [
    "len(result_clean.index)"
   ]
  },
  {
   "cell_type": "code",
   "execution_count": 16,
   "metadata": {},
   "outputs": [
    {
     "data": {
      "text/html": [
       "<div>\n",
       "<style>\n",
       "    .dataframe thead tr:only-child th {\n",
       "        text-align: right;\n",
       "    }\n",
       "\n",
       "    .dataframe thead th {\n",
       "        text-align: left;\n",
       "    }\n",
       "\n",
       "    .dataframe tbody tr th {\n",
       "        vertical-align: top;\n",
       "    }\n",
       "</style>\n",
       "<table border=\"1\" class=\"dataframe\">\n",
       "  <thead>\n",
       "    <tr style=\"text-align: right;\">\n",
       "      <th></th>\n",
       "      <th>id (S)</th>\n",
       "      <th>company (S)</th>\n",
       "      <th>tweets</th>\n",
       "      <th>sentiments</th>\n",
       "      <th>keyword (S)</th>\n",
       "      <th>tweetId (N)</th>\n",
       "      <th>user (S)</th>\n",
       "      <th>userId (N)</th>\n",
       "    </tr>\n",
       "  </thead>\n",
       "  <tbody>\n",
       "    <tr>\n",
       "      <th>1</th>\n",
       "      <td>b7701300-52e2-4d30-abce-d38829cda22c</td>\n",
       "      <td>GEICO</td>\n",
       "      <td>RT @FactsOnFox: .@GEICO Your ads on #FoxNews s...</td>\n",
       "      <td>negative</td>\n",
       "      <td>GEICO</td>\n",
       "      <td>8.97936e+17</td>\n",
       "      <td>AtheComm</td>\n",
       "      <td>8.776025e+17</td>\n",
       "    </tr>\n",
       "    <tr>\n",
       "      <th>2</th>\n",
       "      <td>13fdb266-95b3-4e65-9c3f-205f5ad9259f</td>\n",
       "      <td>GEICO</td>\n",
       "      <td>RT @killmefam: N Koreas 1st Target should b th...</td>\n",
       "      <td>negative</td>\n",
       "      <td>GEICO</td>\n",
       "      <td>8.99651e+17</td>\n",
       "      <td>woezyb</td>\n",
       "      <td>7.070237e+17</td>\n",
       "    </tr>\n",
       "    <tr>\n",
       "      <th>3</th>\n",
       "      <td>c1770d7f-9209-42f7-9c26-ba90f1e4d786</td>\n",
       "      <td>GEICO</td>\n",
       "      <td>@geico #skytypers lined up https://t.co/JaUoyA...</td>\n",
       "      <td>neutral</td>\n",
       "      <td>GEICO</td>\n",
       "      <td>8.99659e+17</td>\n",
       "      <td>acpresspamela</td>\n",
       "      <td>7.866205e+07</td>\n",
       "    </tr>\n",
       "    <tr>\n",
       "      <th>4</th>\n",
       "      <td>078d1960-740f-427d-a975-de1cdc0450ee</td>\n",
       "      <td>GEICO</td>\n",
       "      <td>RT @killmefam: N Koreas 1st Target should b th...</td>\n",
       "      <td>negative</td>\n",
       "      <td>GEICO</td>\n",
       "      <td>8.99641e+17</td>\n",
       "      <td>Bar3lyL0gical</td>\n",
       "      <td>4.124504e+09</td>\n",
       "    </tr>\n",
       "    <tr>\n",
       "      <th>6</th>\n",
       "      <td>c57fa40d-b8db-42e0-8294-c74bdd7bbd32</td>\n",
       "      <td>GEICO</td>\n",
       "      <td>Join the GEICO team! See our latest #job openi...</td>\n",
       "      <td>neutral</td>\n",
       "      <td>GEICO</td>\n",
       "      <td>8.99647e+17</td>\n",
       "      <td>GEICO_Jobs</td>\n",
       "      <td>2.013487e+08</td>\n",
       "    </tr>\n",
       "  </tbody>\n",
       "</table>\n",
       "</div>"
      ],
      "text/plain": [
       "                                 id (S) company (S)  \\\n",
       "1  b7701300-52e2-4d30-abce-d38829cda22c       GEICO   \n",
       "2  13fdb266-95b3-4e65-9c3f-205f5ad9259f       GEICO   \n",
       "3  c1770d7f-9209-42f7-9c26-ba90f1e4d786       GEICO   \n",
       "4  078d1960-740f-427d-a975-de1cdc0450ee       GEICO   \n",
       "6  c57fa40d-b8db-42e0-8294-c74bdd7bbd32       GEICO   \n",
       "\n",
       "                                              tweets sentiments keyword (S)  \\\n",
       "1  RT @FactsOnFox: .@GEICO Your ads on #FoxNews s...   negative       GEICO   \n",
       "2  RT @killmefam: N Koreas 1st Target should b th...   negative       GEICO   \n",
       "3  @geico #skytypers lined up https://t.co/JaUoyA...    neutral       GEICO   \n",
       "4  RT @killmefam: N Koreas 1st Target should b th...   negative       GEICO   \n",
       "6  Join the GEICO team! See our latest #job openi...    neutral       GEICO   \n",
       "\n",
       "   tweetId (N)       user (S)    userId (N)  \n",
       "1  8.97936e+17       AtheComm  8.776025e+17  \n",
       "2  8.99651e+17         woezyb  7.070237e+17  \n",
       "3  8.99659e+17  acpresspamela  7.866205e+07  \n",
       "4  8.99641e+17  Bar3lyL0gical  4.124504e+09  \n",
       "6  8.99647e+17     GEICO_Jobs  2.013487e+08  "
      ]
     },
     "execution_count": 16,
     "metadata": {},
     "output_type": "execute_result"
    }
   ],
   "source": [
    "result_clean.head()"
   ]
  },
  {
   "cell_type": "code",
   "execution_count": 17,
   "metadata": {},
   "outputs": [
    {
     "name": "stdout",
     "output_type": "stream",
     "text": [
      "<class 'pandas.core.frame.DataFrame'>\n",
      "Index: 516 entries, 1 to 40\n",
      "Data columns (total 8 columns):\n",
      "id (S)         511 non-null object\n",
      "company (S)    511 non-null object\n",
      "tweets         511 non-null object\n",
      "sentiments     511 non-null object\n",
      "keyword (S)    511 non-null object\n",
      "tweetId (N)    511 non-null object\n",
      "user (S)       511 non-null object\n",
      "userId (N)     511 non-null float64\n",
      "dtypes: float64(1), object(7)\n",
      "memory usage: 36.3+ KB\n"
     ]
    }
   ],
   "source": [
    "result_clean.info()"
   ]
  },
  {
   "cell_type": "code",
   "execution_count": 18,
   "metadata": {},
   "outputs": [
    {
     "data": {
      "text/plain": [
       "Index(['id (S)', 'company (S)', 'tweets', 'sentiments', 'keyword (S)',\n",
       "       'tweetId (N)', 'user (S)', 'userId (N)'],\n",
       "      dtype='object')"
      ]
     },
     "execution_count": 18,
     "metadata": {},
     "output_type": "execute_result"
    }
   ],
   "source": [
    "result_clean.columns"
   ]
  },
  {
   "cell_type": "markdown",
   "metadata": {},
   "source": [
    "## Data Analysis"
   ]
  },
  {
   "cell_type": "markdown",
   "metadata": {},
   "source": [
    "**Add tweet length for analysis**"
   ]
  },
  {
   "cell_type": "code",
   "execution_count": 19,
   "metadata": {},
   "outputs": [
    {
     "name": "stderr",
     "output_type": "stream",
     "text": [
      "/Library/Frameworks/Python.framework/Versions/3.6/lib/python3.6/site-packages/ipykernel_launcher.py:1: SettingWithCopyWarning: \n",
      "A value is trying to be set on a copy of a slice from a DataFrame.\n",
      "Try using .loc[row_indexer,col_indexer] = value instead\n",
      "\n",
      "See the caveats in the documentation: http://pandas.pydata.org/pandas-docs/stable/indexing.html#indexing-view-versus-copy\n",
      "  \"\"\"Entry point for launching an IPython kernel.\n"
     ]
    }
   ],
   "source": [
    "result_clean['tweet_length'] = result_clean['tweets'].apply(str).apply(len)"
   ]
  },
  {
   "cell_type": "markdown",
   "metadata": {},
   "source": [
    "**Tweets per company**"
   ]
  },
  {
   "cell_type": "code",
   "execution_count": 20,
   "metadata": {},
   "outputs": [
    {
     "data": {
      "text/plain": [
       "<matplotlib.axes._subplots.AxesSubplot at 0x10a620c50>"
      ]
     },
     "execution_count": 20,
     "metadata": {},
     "output_type": "execute_result"
    },
    {
     "data": {
      "image/png": "[encoded data removed]",
      "text/plain": [
       "<matplotlib.figure.Figure at 0x10a50d080>"
      ]
     },
     "metadata": {},
     "output_type": "display_data"
    }
   ],
   "source": [
    "import seaborn as sns\n",
    "%matplotlib inline\n",
    "plt.figure(figsize=(15,3))\n",
    "sns.countplot(x='company (S)',data=result_clean)"
   ]
  },
  {
   "cell_type": "markdown",
   "metadata": {},
   "source": [
    "**Tweet length per sentiment**"
   ]
  },
  {
   "cell_type": "code",
   "execution_count": 355,
   "metadata": {},
   "outputs": [
    {
     "data": {
      "text/plain": [
       "<seaborn.axisgrid.FacetGrid at 0x10cbafa20>"
      ]
     },
     "execution_count": 355,
     "metadata": {},
     "output_type": "execute_result"
    },
    {
     "data": {
      "image/png": "[encoded data removed]",
      "text/plain": [
       "<matplotlib.figure.Figure at 0x10c2816d8>"
      ]
     },
     "metadata": {},
     "output_type": "display_data"
    }
   ],
   "source": [
    "import matplotlib.pyplot as plt\n",
    "sns.set_style('white')\n",
    "%matplotlib inline\n",
    "g = sns.FacetGrid(result_clean,col='sentiments')\n",
    "g.map(plt.hist,'tweet_length')"
   ]
  },
  {
   "cell_type": "markdown",
   "metadata": {},
   "source": [
    "**Sentiment per Company**"
   ]
  },
  {
   "cell_type": "code",
   "execution_count": 390,
   "metadata": {},
   "outputs": [
    {
     "data": {
      "text/plain": [
       "array([[<matplotlib.axes._subplots.AxesSubplot object at 0x10f1343c8>,\n",
       "        <matplotlib.axes._subplots.AxesSubplot object at 0x112cf32b0>,\n",
       "        <matplotlib.axes._subplots.AxesSubplot object at 0x112d2a780>],\n",
       "       [<matplotlib.axes._subplots.AxesSubplot object at 0x112fa8208>,\n",
       "        <matplotlib.axes._subplots.AxesSubplot object at 0x112fde748>,\n",
       "        <matplotlib.axes._subplots.AxesSubplot object at 0x112fde780>],\n",
       "       [<matplotlib.axes._subplots.AxesSubplot object at 0x11384b5f8>,\n",
       "        <matplotlib.axes._subplots.AxesSubplot object at 0x1138687f0>,\n",
       "        <matplotlib.axes._subplots.AxesSubplot object at 0x1138c3048>]], dtype=object)"
      ]
     },
     "execution_count": 390,
     "metadata": {},
     "output_type": "execute_result"
    },
    {
     "data": {
      "image/png": "[encoded data removed]",
      "text/plain": [
       "<matplotlib.figure.Figure at 0x112c818d0>"
      ]
     },
     "metadata": {},
     "output_type": "display_data"
    }
   ],
   "source": [
    "result_clean.hist(column='sentiments', by='company (S)', bins=5, figsize=(12,12))"
   ]
  },
  {
   "cell_type": "markdown",
   "metadata": {},
   "source": [
    "## Preparing dataset for Machine Learning "
   ]
  },
  {
   "cell_type": "code",
   "execution_count": 42,
   "metadata": {},
   "outputs": [],
   "source": [
    "x = result_clean['tweets'].apply(str)"
   ]
  },
  {
   "cell_type": "code",
   "execution_count": 43,
   "metadata": {},
   "outputs": [],
   "source": [
    "y = result_clean['sentiments'].apply(str)"
   ]
  },
  {
   "cell_type": "markdown",
   "metadata": {},
   "source": [
    "Count Vectorizer converts a collection of words into number representations, example below"
   ]
  },
  {
   "cell_type": "code",
   "execution_count": 44,
   "metadata": {},
   "outputs": [
    {
     "name": "stdout",
     "output_type": "stream",
     "text": [
      "  (0, 3)\t1\n",
      "  (0, 0)\t1\n",
      "  (0, 2)\t1\n",
      "  (0, 1)\t2\n"
     ]
    }
   ],
   "source": [
    "from sklearn.feature_extraction.text import CountVectorizer\n",
    "cv = CountVectorizer()\n",
    "example = cv.fit_transform([\"hi, me and you hi\"])\n",
    "print(example)"
   ]
  },
  {
   "cell_type": "code",
   "execution_count": 45,
   "metadata": {
    "scrolled": true
   },
   "outputs": [],
   "source": [
    "X = cv.fit_transform(x)"
   ]
  },
  {
   "cell_type": "markdown",
   "metadata": {},
   "source": [
    "**This function will take punctuations and stopwords out of the tweets**"
   ]
  },
  {
   "cell_type": "code",
   "execution_count": 46,
   "metadata": {},
   "outputs": [],
   "source": [
    "def text_process(mess):\n",
    "    \"\"\"\n",
    "    1. remove punc\n",
    "    2.remove stop words\n",
    "    3. return list of clean text words\n",
    "    \"\"\"\n",
    "    nopunc = ''.join([c for c in mess if c not in  string.punctuation])\n",
    "    nostop = [c for c in nopunc.split() if c.lower() not in stopwords.words('english')]\n",
    "    return nostop"
   ]
  },
  {
   "cell_type": "markdown",
   "metadata": {},
   "source": [
    "**This method will split training and testing datasets**"
   ]
  },
  {
   "cell_type": "code",
   "execution_count": 47,
   "metadata": {},
   "outputs": [],
   "source": [
    "from sklearn.model_selection import train_test_split\n",
    "X_train, X_test, y_train, y_test = train_test_split(X, y, test_size=.30, random_state=101)"
   ]
  },
  {
   "cell_type": "markdown",
   "metadata": {},
   "source": [
    "# Multinomial Naive Bayes without Tfidf"
   ]
  },
  {
   "cell_type": "markdown",
   "metadata": {},
   "source": [
    "**Multinomial Naive Bayes models the word counts and adjusts the formula to word counts. **"
   ]
  },
  {
   "cell_type": "code",
   "execution_count": 48,
   "metadata": {},
   "outputs": [
    {
     "data": {
      "text/plain": [
       "MultinomialNB(alpha=1.0, class_prior=None, fit_prior=True)"
      ]
     },
     "execution_count": 48,
     "metadata": {},
     "output_type": "execute_result"
    }
   ],
   "source": [
    "from sklearn.naive_bayes import MultinomialNB\n",
    "nb = MultinomialNB()\n",
    "nb.fit(X_train,y_train)"
   ]
  },
  {
   "cell_type": "markdown",
   "metadata": {},
   "source": [
    "** Use X_train (70% of tweets) and y_train (70% of sentiment) to train the model**"
   ]
  },
  {
   "cell_type": "code",
   "execution_count": 49,
   "metadata": {},
   "outputs": [
    {
     "data": {
      "text/plain": [
       "MultinomialNB(alpha=1.0, class_prior=None, fit_prior=True)"
      ]
     },
     "execution_count": 49,
     "metadata": {},
     "output_type": "execute_result"
    }
   ],
   "source": [
    "nb.fit(X_train,y_train)"
   ]
  },
  {
   "cell_type": "markdown",
   "metadata": {},
   "source": [
    "**Predict X_test (30% of the tweets) that were not used to train the model**"
   ]
  },
  {
   "cell_type": "code",
   "execution_count": 50,
   "metadata": {},
   "outputs": [
    {
     "name": "stdout",
     "output_type": "stream",
     "text": [
      "<class 'scipy.sparse.csr.csr_matrix'>\n"
     ]
    }
   ],
   "source": [
    "print(type(X_test))"
   ]
  },
  {
   "cell_type": "code",
   "execution_count": 51,
   "metadata": {},
   "outputs": [],
   "source": [
    "predictions = nb.predict(X_test)"
   ]
  },
  {
   "cell_type": "code",
   "execution_count": 52,
   "metadata": {},
   "outputs": [],
   "source": [
    "from sklearn.metrics import confusion_matrix,classification_report"
   ]
  },
  {
   "cell_type": "code",
   "execution_count": 53,
   "metadata": {},
   "outputs": [
    {
     "name": "stdout",
     "output_type": "stream",
     "text": [
      "[[ 0  0  1  0]\n",
      " [ 0 36  5 14]\n",
      " [ 0  4 60 10]\n",
      " [ 0  0  8 17]]\n",
      "\n",
      "\n",
      "             precision    recall  f1-score   support\n",
      "\n",
      "        nan       0.00      0.00      0.00         1\n",
      "   negative       0.90      0.65      0.76        55\n",
      "    neutral       0.81      0.81      0.81        74\n",
      "   positive       0.41      0.68      0.52        25\n",
      "\n",
      "avg / total       0.77      0.73      0.74       155\n",
      "\n"
     ]
    },
    {
     "name": "stderr",
     "output_type": "stream",
     "text": [
      "/Library/Frameworks/Python.framework/Versions/3.6/lib/python3.6/site-packages/sklearn/metrics/classification.py:1135: UndefinedMetricWarning: Precision and F-score are ill-defined and being set to 0.0 in labels with no predicted samples.\n",
      "  'precision', 'predicted', average, warn_for)\n"
     ]
    }
   ],
   "source": [
    "print(confusion_matrix(y_test,predictions))\n",
    "print('\\n')\n",
    "print(classification_report(y_test,predictions))"
   ]
  },
  {
   "cell_type": "markdown",
   "metadata": {},
   "source": [
    "# Multinomial Naive Bayes with pipeline of Count Vectorizer and Tfidf"
   ]
  },
  {
   "cell_type": "markdown",
   "metadata": {},
   "source": [
    "**Create a pipeline**"
   ]
  },
  {
   "cell_type": "markdown",
   "metadata": {},
   "source": [
    "Import Tfidf Transformer which counts words and weights their effects on the outcome \n",
    "\n",
    "Import stopwords, words that donot have any value example, is, he or has\n",
    "\n",
    "Import Pipeline which create a pipeline for a dataset."
   ]
  },
  {
   "cell_type": "code",
   "execution_count": 54,
   "metadata": {},
   "outputs": [],
   "source": [
    "from sklearn.feature_extraction.text import  TfidfTransformer\n",
    "from sklearn.pipeline import Pipeline\n",
    "from nltk.corpus import stopwords"
   ]
  },
  {
   "cell_type": "code",
   "execution_count": 55,
   "metadata": {},
   "outputs": [],
   "source": [
    "pipeline_MultinomialNB = Pipeline([\n",
    "    ('bow', CountVectorizer(analyzer=text_process)),  # strings to token integer counts\n",
    "    ('tfidf', TfidfTransformer()),  # integer counts to weighted TF-IDF scores\n",
    "    ('classifier', MultinomialNB()),  # train on TF-IDF vectors w/ Naive Bayes classifier\n",
    "])"
   ]
  },
  {
   "cell_type": "markdown",
   "metadata": {},
   "source": [
    "Define the tweets as 'X' and the sentiments as 'y' to split "
   ]
  },
  {
   "cell_type": "code",
   "execution_count": 56,
   "metadata": {},
   "outputs": [],
   "source": [
    "X = result_clean['tweets'].apply(str)\n",
    "y = result_clean['sentiments'].apply(str)\n",
    "X_train, X_test, y_train, y_test = train_test_split(X, y, test_size=.30, random_state=101)"
   ]
  },
  {
   "cell_type": "code",
   "execution_count": 57,
   "metadata": {},
   "outputs": [
    {
     "data": {
      "text/plain": [
       "Pipeline(memory=None,\n",
       "     steps=[('bow', CountVectorizer(analyzer=<function text_process at 0x10cb0a1e0>, binary=False,\n",
       "        decode_error='strict', dtype=<class 'numpy.int64'>,\n",
       "        encoding='utf-8', input='content', lowercase=True, max_df=1.0,\n",
       "        max_features=None, min_df=1, ngram_range=(1, 1), preprocessor=None,...f=False, use_idf=True)), ('classifier', MultinomialNB(alpha=1.0, class_prior=None, fit_prior=True))])"
      ]
     },
     "execution_count": 57,
     "metadata": {},
     "output_type": "execute_result"
    }
   ],
   "source": [
    "pipeline_MultinomialNB.fit(X_train,y_train)"
   ]
  },
  {
   "cell_type": "code",
   "execution_count": 58,
   "metadata": {},
   "outputs": [],
   "source": [
    "predictions_MultinomialNB = pipeline_MultinomialNB.predict(X_test)"
   ]
  },
  {
   "cell_type": "code",
   "execution_count": 59,
   "metadata": {},
   "outputs": [
    {
     "name": "stdout",
     "output_type": "stream",
     "text": [
      "[[ 0  0  1  0]\n",
      " [ 0 31 20  4]\n",
      " [ 0  3 67  4]\n",
      " [ 0  0 15 10]]\n",
      "             precision    recall  f1-score   support\n",
      "\n",
      "        nan       0.00      0.00      0.00         1\n",
      "   negative       0.91      0.56      0.70        55\n",
      "    neutral       0.65      0.91      0.76        74\n",
      "   positive       0.56      0.40      0.47        25\n",
      "\n",
      "avg / total       0.72      0.70      0.68       155\n",
      "\n"
     ]
    },
    {
     "name": "stderr",
     "output_type": "stream",
     "text": [
      "/Library/Frameworks/Python.framework/Versions/3.6/lib/python3.6/site-packages/sklearn/metrics/classification.py:1135: UndefinedMetricWarning: Precision and F-score are ill-defined and being set to 0.0 in labels with no predicted samples.\n",
      "  'precision', 'predicted', average, warn_for)\n"
     ]
    }
   ],
   "source": [
    "print(confusion_matrix(y_test,predictions_MultinomialNB))\n",
    "print(classification_report(y_test,predictions_MultinomialNB))"
   ]
  },
  {
   "cell_type": "markdown",
   "metadata": {},
   "source": [
    "# Random Forest Classification Method "
   ]
  },
  {
   "cell_type": "code",
   "execution_count": 60,
   "metadata": {},
   "outputs": [],
   "source": [
    "from sklearn.ensemble import RandomForestClassifier"
   ]
  },
  {
   "cell_type": "code",
   "execution_count": 61,
   "metadata": {},
   "outputs": [],
   "source": [
    "pipeline_RandomForestClassifier = Pipeline([\n",
    "    ('bow', CountVectorizer(analyzer=text_process)),  # strings to token integer counts\n",
    "    ('tfidf', TfidfTransformer()),  # integer counts to weighted TF-IDF scores\n",
    "    ('classifier', RandomForestClassifier()),  # train on TF-IDF vectors w/ using micro Decision Tree classifier\n",
    "])"
   ]
  },
  {
   "cell_type": "code",
   "execution_count": 62,
   "metadata": {},
   "outputs": [],
   "source": [
    "X = result_clean['tweets'].apply(str)\n",
    "y = result_clean['sentiments'].apply(str)\n",
    "X_train, X_test, y_train, y_test = train_test_split(X, y,test_size=0.3,random_state=101)"
   ]
  },
  {
   "cell_type": "code",
   "execution_count": 63,
   "metadata": {},
   "outputs": [
    {
     "data": {
      "text/plain": [
       "Pipeline(memory=None,\n",
       "     steps=[('bow', CountVectorizer(analyzer=<function text_process at 0x10cb0a1e0>, binary=False,\n",
       "        decode_error='strict', dtype=<class 'numpy.int64'>,\n",
       "        encoding='utf-8', input='content', lowercase=True, max_df=1.0,\n",
       "        max_features=None, min_df=1, ngram_range=(1, 1), preprocessor=None,...n_jobs=1,\n",
       "            oob_score=False, random_state=None, verbose=0,\n",
       "            warm_start=False))])"
      ]
     },
     "execution_count": 63,
     "metadata": {},
     "output_type": "execute_result"
    }
   ],
   "source": [
    "pipeline_RandomForestClassifier.fit(X_train,y_train)"
   ]
  },
  {
   "cell_type": "code",
   "execution_count": 64,
   "metadata": {},
   "outputs": [],
   "source": [
    "predictions_RandomForestClassifier = pipeline_RandomForestClassifier.predict(X_test)"
   ]
  },
  {
   "cell_type": "code",
   "execution_count": 65,
   "metadata": {},
   "outputs": [
    {
     "name": "stdout",
     "output_type": "stream",
     "text": [
      "[[ 1  0  0  0]\n",
      " [ 0 26 22  7]\n",
      " [ 0  2 67  5]\n",
      " [ 0  0 13 12]]\n",
      "             precision    recall  f1-score   support\n",
      "\n",
      "        nan       1.00      1.00      1.00         1\n",
      "   negative       0.93      0.47      0.63        55\n",
      "    neutral       0.66      0.91      0.76        74\n",
      "   positive       0.50      0.48      0.49        25\n",
      "\n",
      "avg / total       0.73      0.68      0.67       155\n",
      "\n"
     ]
    }
   ],
   "source": [
    "print(confusion_matrix(y_test,predictions_RandomForestClassifier))\n",
    "print(classification_report(y_test,predictions_RandomForestClassifier))"
   ]
  },
  {
   "cell_type": "markdown",
   "metadata": {},
   "source": [
    "# SVC"
   ]
  },
  {
   "cell_type": "code",
   "execution_count": 66,
   "metadata": {},
   "outputs": [
    {
     "name": "stderr",
     "output_type": "stream",
     "text": [
      "/Library/Frameworks/Python.framework/Versions/3.6/lib/python3.6/site-packages/sklearn/grid_search.py:42: DeprecationWarning: This module was deprecated in version 0.18 in favor of the model_selection module into which all the refactored classes and functions are moved. This module will be removed in 0.20.\n",
      "  DeprecationWarning)\n"
     ]
    }
   ],
   "source": [
    "from sklearn.svm import SVC\n",
    "from sklearn.grid_search import GridSearchCV\n",
    "param_grid = {'C':[0.1, 1,10,50,70,100,1000], 'gamma':[1,0.1,0.05,0.01,0.005,0.001,0.0005,0.0001]}\n",
    "X = result_clean['tweets'].apply(str)\n",
    "y = result_clean['sentiments'].apply(str)\n",
    "X_train, X_test, y_train, y_test = train_test_split(X, y,test_size=0.3,random_state=101)"
   ]
  },
  {
   "cell_type": "code",
   "execution_count": 67,
   "metadata": {},
   "outputs": [],
   "source": [
    "pipeline_grid = Pipeline([\n",
    "        ('bow', CountVectorizer(analyzer=text_process)),  # strings to token integer counts\n",
    "    ('tfidf', TfidfTransformer()),  # integer counts to weighted TF-IDF scores\n",
    "    ('classifier', GridSearchCV(SVC(),param_grid)),  # train on TF-IDF vectors w/ Naive Bayes classifier\n",
    "])"
   ]
  },
  {
   "cell_type": "code",
   "execution_count": 68,
   "metadata": {},
   "outputs": [
    {
     "data": {
      "text/plain": [
       "Pipeline(memory=None,\n",
       "     steps=[('bow', CountVectorizer(analyzer=<function text_process at 0x10cb0a1e0>, binary=False,\n",
       "        decode_error='strict', dtype=<class 'numpy.int64'>,\n",
       "        encoding='utf-8', input='content', lowercase=True, max_df=1.0,\n",
       "        max_features=None, min_df=1, ngram_range=(1, 1), preprocessor=None,...005, 0.001, 0.0005, 0.0001]},\n",
       "       pre_dispatch='2*n_jobs', refit=True, scoring=None, verbose=0))])"
      ]
     },
     "execution_count": 68,
     "metadata": {},
     "output_type": "execute_result"
    }
   ],
   "source": [
    "pipeline_grid.fit(X_train, y_train)"
   ]
  },
  {
   "cell_type": "code",
   "execution_count": 69,
   "metadata": {},
   "outputs": [],
   "source": [
    "predictions_grid = pipeline_grid.predict(X_test)"
   ]
  },
  {
   "cell_type": "code",
   "execution_count": 70,
   "metadata": {},
   "outputs": [
    {
     "name": "stdout",
     "output_type": "stream",
     "text": [
      "[[ 1  0  0  0]\n",
      " [ 0 32 18  5]\n",
      " [ 0  1 67  6]\n",
      " [ 0  1 12 12]]\n",
      "\n",
      "\n",
      "             precision    recall  f1-score   support\n",
      "\n",
      "        nan       1.00      1.00      1.00         1\n",
      "   negative       0.94      0.58      0.72        55\n",
      "    neutral       0.69      0.91      0.78        74\n",
      "   positive       0.52      0.48      0.50        25\n",
      "\n",
      "avg / total       0.75      0.72      0.72       155\n",
      "\n"
     ]
    }
   ],
   "source": [
    "print(confusion_matrix(y_test,predictions_grid))\n",
    "print('\\n')\n",
    "print(classification_report(y_test,predictions_grid))"
   ]
  },
  {
   "cell_type": "code",
   "execution_count": null,
   "metadata": {},
   "outputs": [],
   "source": []
  }
 ],
 "metadata": {
  "kernelspec": {
   "display_name": "Python 3",
   "language": "python",
   "name": "python3"
  },
  "language_info": {
   "codemirror_mode": {
    "name": "ipython",
    "version": 3
   },
   "file_extension": ".py",
   "mimetype": "text/x-python",
   "name": "python",
   "nbconvert_exporter": "python",
   "pygments_lexer": "ipython3",
   "version": "3.6.3"
  }
 },
 "nbformat": 4,
 "nbformat_minor": 1
}
