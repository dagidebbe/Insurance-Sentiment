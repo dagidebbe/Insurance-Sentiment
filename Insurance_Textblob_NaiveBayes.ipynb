{
 "cells": [
  {
   "cell_type": "code",
   "execution_count": 45,
   "metadata": {},
   "outputs": [],
   "source": [
    "from textblob.classifiers import NaiveBayesClassifier\n",
    "from nltk.corpus import stopwords\n",
    "import csv\n",
    "import sys\n",
    "import pickle\n",
    "import string\n",
    "from nltk.tokenize import word_tokenize\n",
    "# reload(sys)\n",
    "# sys.setdefaultencoding('utf-8')\n",
    "# sys.setdefaultencoding(\"ISO-8859-1\")\n",
    "import time\n",
    "import datetime\n",
    "from nltk.stem import WordNetLemmatizer"
   ]
  },
  {
   "cell_type": "code",
   "execution_count": 46,
   "metadata": {},
   "outputs": [],
   "source": [
    "def pickle_dump(file_to_pickle_to, classifiers_name):\n",
    "    \"\"\" This function will dump the serilized trained model into a file\"\"\"\n",
    "    f = open(file_to_pickle_to, 'wb')\n",
    "    pickle.dump(classifiers_name, f)\n",
    "    f.close()"
   ]
  },
  {
   "cell_type": "code",
   "execution_count": 47,
   "metadata": {},
   "outputs": [],
   "source": [
    "def classify(training_dataset):\n",
    "    \"\"\" This function trains the model, it takes the training dataset list \"\"\"\n",
    "    classifier_to_return = NaiveBayesClassifier(training_dataset)\n",
    "    return classifier_to_return"
   ]
  },
  {
   "cell_type": "code",
   "execution_count": 48,
   "metadata": {},
   "outputs": [],
   "source": [
    "def test(rows,outputindex,tweetindex, files):\n",
    "    \"\"\" This function will test the trained model and output accuracy percentage \"\"\"\n",
    "    count = 0.00\n",
    "    correct = 0.00\n",
    "    wrong = 0.00\n",
    "\n",
    "    #gets the beggining of testing index\n",
    "    beg_test = get_training_num(files)\n",
    "\n",
    "    # gets the ending of testing index\n",
    "    end_test = get_testing_num(files)\n",
    "\n",
    "    for i in rows[beg_test:end_test]:\n",
    "        outcome = i[int(outputindex)]\n",
    "        tweet = i[int(tweetindex)]\n",
    "\n",
    "        #this predicts the output sentiment\n",
    "        sentiment_output = classifier.classify(removewords(tweet))\n",
    "\n",
    "        if outcome != sentiment_output:\n",
    "            wrong = wrong + 1.0\n",
    "            count = count + 1.0\n",
    "        else:\n",
    "            count = count + 1.0\n",
    "            correct = correct + 1.0\n",
    "        print( 'label is  --> ' + outcome + '\\tclassification is \\t-->\\t' + sentiment_output + '\\t' + '\\t' + str(\n",
    "            wrong) + '\\t' + '\\t' + str(count))  # => 'pos'\n",
    "\n",
    "    print( 'wrong = ' + str(wrong) + '\\t' + 'count = ' + str(count) + '\\t' + str(float((correct / count) * 100)) + '%')\n"
   ]
  },
  {
   "cell_type": "code",
   "execution_count": 49,
   "metadata": {},
   "outputs": [],
   "source": [
    "def trainit(rows, files, outputindex, tweetindex):\n",
    "    \"\"\" This function will test the trained model and output accuracy percentage \"\"\"\n",
    "    #gets the max row for training\n",
    "    begginingrow = get_training_num(files)\n",
    "\n",
    "    #new dataset with tweets and results to pass for training\n",
    "    training = []\n",
    "    for i in rows[1:begginingrow]:\n",
    "        outcome = i[int(outputindex)]\n",
    "        tweet = i[int(tweetindex)]\n",
    "        training.append(((removewords(tweet)), outcome))\n",
    "    return training\n"
   ]
  },
  {
   "cell_type": "code",
   "execution_count": 50,
   "metadata": {},
   "outputs": [],
   "source": [
    "def removewords(strs):\n",
    "    \"\"\" This function will smooth the dataset before training and testing. it will tokenize, remove stopwordsand  lammatize words  \"\"\"\n",
    "    \n",
    "    punc = ''.join([c for c in strs if c not in string.punctuation])\n",
    "    stop_words = ' '.join([j for j in punc.split() if j.lower() not in stopwords.words('english')])\n",
    "    return stop_words"
   ]
  },
  {
   "cell_type": "code",
   "execution_count": 51,
   "metadata": {},
   "outputs": [],
   "source": [
    "def get_training_num(files):\n",
    "    \"\"\" gets the number of training dataset indexes \"\"\"\n",
    "    numberofit = sum(1 for line in open(files))\n",
    "    return int(round((numberofit*.75)))"
   ]
  },
  {
   "cell_type": "code",
   "execution_count": 52,
   "metadata": {},
   "outputs": [],
   "source": [
    "def get_testing_num(files):\n",
    "    \"\"\" gets the total number of  dataset  \"\"\"\n",
    "    numberofit = sum(1 for line in open(files))\n",
    "    return numberofit\n"
   ]
  },
  {
   "cell_type": "code",
   "execution_count": 53,
   "metadata": {},
   "outputs": [],
   "source": [
    "files = \"/Users/dougmengistu/Documents/tweet_all\"#\"/Users/dougmengistu/Downloads/Airline-Trail.csv\"\n",
    "newfile = \"/Users/dougmengistu/Documents/tweet_all\"\n",
    "pickle_file = '/Users/dougmengistu/Downloads/classifier2.pickle'\n",
    "tokentime = datetime.datetime.fromtimestamp(time.time()).strftime('%Y-%m-%d %H:%M:%S')"
   ]
  },
  {
   "cell_type": "code",
   "execution_count": 54,
   "metadata": {},
   "outputs": [],
   "source": [
    "import pandas as pd"
   ]
  },
  {
   "cell_type": "code",
   "execution_count": 55,
   "metadata": {},
   "outputs": [],
   "source": [
    "pandas = pd.read_csv(newfile)"
   ]
  },
  {
   "cell_type": "code",
   "execution_count": 63,
   "metadata": {},
   "outputs": [
    {
     "data": {
      "text/html": [
       "<div>\n",
       "<style>\n",
       "    .dataframe thead tr:only-child th {\n",
       "        text-align: right;\n",
       "    }\n",
       "\n",
       "    .dataframe thead th {\n",
       "        text-align: left;\n",
       "    }\n",
       "\n",
       "    .dataframe tbody tr th {\n",
       "        vertical-align: top;\n",
       "    }\n",
       "</style>\n",
       "<table border=\"1\" class=\"dataframe\">\n",
       "  <thead>\n",
       "    <tr style=\"text-align: right;\">\n",
       "      <th></th>\n",
       "      <th>Unnamed: 0</th>\n",
       "      <th>id (S)</th>\n",
       "      <th>company (S)</th>\n",
       "      <th>tweets</th>\n",
       "      <th>sentiments</th>\n",
       "      <th>keyword (S)</th>\n",
       "      <th>ignore</th>\n",
       "      <th>tweetId (N)</th>\n",
       "      <th>user (S)</th>\n",
       "      <th>userId (N)</th>\n",
       "      <th>tweet_length</th>\n",
       "    </tr>\n",
       "  </thead>\n",
       "  <tbody>\n",
       "    <tr>\n",
       "      <th>0</th>\n",
       "      <td>1</td>\n",
       "      <td>b7701300-52e2-4d30-abce-d38829cda22c</td>\n",
       "      <td>GEICO</td>\n",
       "      <td>RT @FactsOnFox: .@GEICO Your ads on #FoxNews s...</td>\n",
       "      <td>negative</td>\n",
       "      <td>GEICO</td>\n",
       "      <td>positive</td>\n",
       "      <td>8.979357e+17</td>\n",
       "      <td>AtheComm</td>\n",
       "      <td>8.776025e+17</td>\n",
       "      <td>140</td>\n",
       "    </tr>\n",
       "    <tr>\n",
       "      <th>1</th>\n",
       "      <td>2</td>\n",
       "      <td>13fdb266-95b3-4e65-9c3f-205f5ad9259f</td>\n",
       "      <td>GEICO</td>\n",
       "      <td>RT @killmefam: N Koreas 1st Target should b th...</td>\n",
       "      <td>negative</td>\n",
       "      <td>GEICO</td>\n",
       "      <td>positive</td>\n",
       "      <td>8.996507e+17</td>\n",
       "      <td>woezyb</td>\n",
       "      <td>7.070237e+17</td>\n",
       "      <td>83</td>\n",
       "    </tr>\n",
       "    <tr>\n",
       "      <th>2</th>\n",
       "      <td>3</td>\n",
       "      <td>c1770d7f-9209-42f7-9c26-ba90f1e4d786</td>\n",
       "      <td>GEICO</td>\n",
       "      <td>@geico #skytypers lined up https://t.co/JaUoyA...</td>\n",
       "      <td>neutral</td>\n",
       "      <td>GEICO</td>\n",
       "      <td>positive</td>\n",
       "      <td>8.996587e+17</td>\n",
       "      <td>acpresspamela</td>\n",
       "      <td>7.866205e+07</td>\n",
       "      <td>50</td>\n",
       "    </tr>\n",
       "    <tr>\n",
       "      <th>3</th>\n",
       "      <td>4</td>\n",
       "      <td>078d1960-740f-427d-a975-de1cdc0450ee</td>\n",
       "      <td>GEICO</td>\n",
       "      <td>RT @killmefam: N Koreas 1st Target should b th...</td>\n",
       "      <td>negative</td>\n",
       "      <td>GEICO</td>\n",
       "      <td>positive</td>\n",
       "      <td>8.996412e+17</td>\n",
       "      <td>Bar3lyL0gical</td>\n",
       "      <td>4.124504e+09</td>\n",
       "      <td>83</td>\n",
       "    </tr>\n",
       "    <tr>\n",
       "      <th>4</th>\n",
       "      <td>6</td>\n",
       "      <td>c57fa40d-b8db-42e0-8294-c74bdd7bbd32</td>\n",
       "      <td>GEICO</td>\n",
       "      <td>Join the GEICO team! See our latest #job openi...</td>\n",
       "      <td>neutral</td>\n",
       "      <td>GEICO</td>\n",
       "      <td>negative</td>\n",
       "      <td>8.996474e+17</td>\n",
       "      <td>GEICO_Jobs</td>\n",
       "      <td>2.013487e+08</td>\n",
       "      <td>122</td>\n",
       "    </tr>\n",
       "  </tbody>\n",
       "</table>\n",
       "</div>"
      ],
      "text/plain": [
       "   Unnamed: 0                                id (S) company (S)  \\\n",
       "0           1  b7701300-52e2-4d30-abce-d38829cda22c       GEICO   \n",
       "1           2  13fdb266-95b3-4e65-9c3f-205f5ad9259f       GEICO   \n",
       "2           3  c1770d7f-9209-42f7-9c26-ba90f1e4d786       GEICO   \n",
       "3           4  078d1960-740f-427d-a975-de1cdc0450ee       GEICO   \n",
       "4           6  c57fa40d-b8db-42e0-8294-c74bdd7bbd32       GEICO   \n",
       "\n",
       "                                              tweets sentiments keyword (S)  \\\n",
       "0  RT @FactsOnFox: .@GEICO Your ads on #FoxNews s...   negative       GEICO   \n",
       "1  RT @killmefam: N Koreas 1st Target should b th...   negative       GEICO   \n",
       "2  @geico #skytypers lined up https://t.co/JaUoyA...    neutral       GEICO   \n",
       "3  RT @killmefam: N Koreas 1st Target should b th...   negative       GEICO   \n",
       "4  Join the GEICO team! See our latest #job openi...    neutral       GEICO   \n",
       "\n",
       "     ignore   tweetId (N)       user (S)    userId (N)  tweet_length  \n",
       "0  positive  8.979357e+17       AtheComm  8.776025e+17           140  \n",
       "1  positive  8.996507e+17         woezyb  7.070237e+17            83  \n",
       "2  positive  8.996587e+17  acpresspamela  7.866205e+07            50  \n",
       "3  positive  8.996412e+17  Bar3lyL0gical  4.124504e+09            83  \n",
       "4  negative  8.996474e+17     GEICO_Jobs  2.013487e+08           122  "
      ]
     },
     "execution_count": 63,
     "metadata": {},
     "output_type": "execute_result"
    }
   ],
   "source": [
    "pandas.head()"
   ]
  },
  {
   "cell_type": "code",
   "execution_count": 57,
   "metadata": {},
   "outputs": [
    {
     "name": "stderr",
     "output_type": "stream",
     "text": [
      "/Library/Frameworks/Python.framework/Versions/3.6/lib/python3.6/site-packages/ipykernel_launcher.py:1: DeprecationWarning: 'U' mode is deprecated\n",
      "  \"\"\"Entry point for launching an IPython kernel.\n"
     ]
    }
   ],
   "source": [
    "with open(files, \"rU\") as f:\n",
    "    reader = csv.reader(f, delimiter=\",\")\n",
    "    rows = list(reader)\n",
    "    tweets = [str(item[1]) for item in rows]\n",
    "    sentiments = [str(item[0]) for item in rows]\n",
    "    outputSentiment = []\n",
    "    y = str(tweets)\n",
    "    row_count = sum(1 for row in f)"
   ]
  },
  {
   "cell_type": "code",
   "execution_count": 58,
   "metadata": {},
   "outputs": [],
   "source": [
    "training = trainit(rows, files,4,3)\n"
   ]
  },
  {
   "cell_type": "code",
   "execution_count": 59,
   "metadata": {},
   "outputs": [],
   "source": [
    "classifier = classify(training)"
   ]
  },
  {
   "cell_type": "code",
   "execution_count": 60,
   "metadata": {},
   "outputs": [
    {
     "name": "stdout",
     "output_type": "stream",
     "text": [
      "label is  --> neutral\tclassification is \t-->\tneutral\t\t0.0\t\t1.0\n",
      "label is  --> neutral\tclassification is \t-->\tpositive\t\t1.0\t\t2.0\n",
      "label is  --> negative\tclassification is \t-->\tneutral\t\t2.0\t\t3.0\n",
      "label is  --> negative\tclassification is \t-->\tnegative\t\t2.0\t\t4.0\n",
      "label is  --> neutral\tclassification is \t-->\tneutral\t\t2.0\t\t5.0\n",
      "label is  --> neutral\tclassification is \t-->\tneutral\t\t2.0\t\t6.0\n",
      "label is  --> neutral\tclassification is \t-->\tneutral\t\t2.0\t\t7.0\n",
      "label is  --> neutral\tclassification is \t-->\tneutral\t\t2.0\t\t8.0\n",
      "label is  --> negative\tclassification is \t-->\tnegative\t\t2.0\t\t9.0\n",
      "label is  --> negative\tclassification is \t-->\tneutral\t\t3.0\t\t10.0\n",
      "label is  --> negative\tclassification is \t-->\tpositive\t\t4.0\t\t11.0\n",
      "label is  --> negative\tclassification is \t-->\tnegative\t\t4.0\t\t12.0\n",
      "label is  --> neutral\tclassification is \t-->\tneutral\t\t4.0\t\t13.0\n",
      "label is  --> neutral\tclassification is \t-->\tpositive\t\t5.0\t\t14.0\n",
      "label is  --> neutral\tclassification is \t-->\tneutral\t\t5.0\t\t15.0\n",
      "label is  --> neutral\tclassification is \t-->\tneutral\t\t5.0\t\t16.0\n",
      "label is  --> negative\tclassification is \t-->\tnegative\t\t5.0\t\t17.0\n",
      "label is  --> negative\tclassification is \t-->\tnegative\t\t5.0\t\t18.0\n",
      "label is  --> neutral\tclassification is \t-->\tneutral\t\t5.0\t\t19.0\n",
      "label is  --> negative\tclassification is \t-->\tnegative\t\t5.0\t\t20.0\n",
      "label is  --> positive\tclassification is \t-->\tpositive\t\t5.0\t\t21.0\n",
      "label is  --> negative\tclassification is \t-->\tnegative\t\t5.0\t\t22.0\n",
      "label is  --> neutral\tclassification is \t-->\tneutral\t\t5.0\t\t23.0\n",
      "label is  --> negative\tclassification is \t-->\tpositive\t\t6.0\t\t24.0\n",
      "label is  --> negative\tclassification is \t-->\tnegative\t\t6.0\t\t25.0\n",
      "label is  --> neutral\tclassification is \t-->\tpositive\t\t7.0\t\t26.0\n",
      "label is  --> neutral\tclassification is \t-->\tneutral\t\t7.0\t\t27.0\n",
      "label is  --> neutral\tclassification is \t-->\tpositive\t\t8.0\t\t28.0\n",
      "label is  --> neutral\tclassification is \t-->\tneutral\t\t8.0\t\t29.0\n",
      "label is  --> negative\tclassification is \t-->\tneutral\t\t9.0\t\t30.0\n",
      "label is  --> negative\tclassification is \t-->\tnegative\t\t9.0\t\t31.0\n",
      "label is  --> negative\tclassification is \t-->\tnegative\t\t9.0\t\t32.0\n",
      "label is  --> neutral\tclassification is \t-->\tpositive\t\t10.0\t\t33.0\n",
      "label is  --> neutral\tclassification is \t-->\tneutral\t\t10.0\t\t34.0\n",
      "label is  --> neutral\tclassification is \t-->\tneutral\t\t10.0\t\t35.0\n",
      "label is  --> neutral\tclassification is \t-->\tneutral\t\t10.0\t\t36.0\n",
      "label is  --> neutral\tclassification is \t-->\tneutral\t\t10.0\t\t37.0\n",
      "label is  --> neutral\tclassification is \t-->\tneutral\t\t10.0\t\t38.0\n",
      "label is  --> negative\tclassification is \t-->\tnegative\t\t10.0\t\t39.0\n",
      "label is  --> neutral\tclassification is \t-->\tneutral\t\t10.0\t\t40.0\n",
      "label is  --> negative\tclassification is \t-->\tnegative\t\t10.0\t\t41.0\n",
      "label is  --> negative\tclassification is \t-->\tnegative\t\t10.0\t\t42.0\n",
      "label is  --> neutral\tclassification is \t-->\tneutral\t\t10.0\t\t43.0\n",
      "label is  --> positive\tclassification is \t-->\tpositive\t\t10.0\t\t44.0\n",
      "label is  --> negative\tclassification is \t-->\tnegative\t\t10.0\t\t45.0\n",
      "label is  --> positive\tclassification is \t-->\tneutral\t\t11.0\t\t46.0\n",
      "label is  --> positive\tclassification is \t-->\tneutral\t\t12.0\t\t47.0\n",
      "label is  --> neutral\tclassification is \t-->\tnegative\t\t13.0\t\t48.0\n",
      "label is  --> positive\tclassification is \t-->\tpositive\t\t13.0\t\t49.0\n",
      "label is  --> positive\tclassification is \t-->\tpositive\t\t13.0\t\t50.0\n",
      "label is  --> neutral\tclassification is \t-->\tneutral\t\t13.0\t\t51.0\n",
      "label is  --> positive\tclassification is \t-->\tpositive\t\t13.0\t\t52.0\n",
      "label is  --> positive\tclassification is \t-->\tpositive\t\t13.0\t\t53.0\n",
      "label is  --> neutral\tclassification is \t-->\tneutral\t\t13.0\t\t54.0\n",
      "label is  --> negative\tclassification is \t-->\tnegative\t\t13.0\t\t55.0\n",
      "label is  --> neutral\tclassification is \t-->\tneutral\t\t13.0\t\t56.0\n",
      "label is  --> neutral\tclassification is \t-->\tneutral\t\t13.0\t\t57.0\n",
      "label is  --> neutral\tclassification is \t-->\tneutral\t\t13.0\t\t58.0\n",
      "label is  --> positive\tclassification is \t-->\tpositive\t\t13.0\t\t59.0\n",
      "label is  --> negative\tclassification is \t-->\tnegative\t\t13.0\t\t60.0\n",
      "label is  --> positive\tclassification is \t-->\tpositive\t\t13.0\t\t61.0\n",
      "label is  --> neutral\tclassification is \t-->\tneutral\t\t13.0\t\t62.0\n",
      "label is  --> neutral\tclassification is \t-->\tpositive\t\t14.0\t\t63.0\n",
      "label is  --> neutral\tclassification is \t-->\tneutral\t\t14.0\t\t64.0\n",
      "label is  --> negative\tclassification is \t-->\tnegative\t\t14.0\t\t65.0\n",
      "label is  --> neutral\tclassification is \t-->\tneutral\t\t14.0\t\t66.0\n",
      "label is  --> neutral\tclassification is \t-->\tneutral\t\t14.0\t\t67.0\n",
      "label is  --> negative\tclassification is \t-->\tnegative\t\t14.0\t\t68.0\n",
      "label is  --> neutral\tclassification is \t-->\tneutral\t\t14.0\t\t69.0\n",
      "label is  --> neutral\tclassification is \t-->\tneutral\t\t14.0\t\t70.0\n",
      "label is  --> positive\tclassification is \t-->\tpositive\t\t14.0\t\t71.0\n",
      "label is  --> negative\tclassification is \t-->\tnegative\t\t14.0\t\t72.0\n",
      "label is  --> neutral\tclassification is \t-->\tpositive\t\t15.0\t\t73.0\n",
      "label is  --> neutral\tclassification is \t-->\tneutral\t\t15.0\t\t74.0\n",
      "label is  --> neutral\tclassification is \t-->\tneutral\t\t15.0\t\t75.0\n",
      "label is  --> negative\tclassification is \t-->\tnegative\t\t15.0\t\t76.0\n",
      "label is  --> negative\tclassification is \t-->\tneutral\t\t16.0\t\t77.0\n",
      "label is  --> neutral\tclassification is \t-->\tneutral\t\t16.0\t\t78.0\n",
      "label is  --> positive\tclassification is \t-->\tneutral\t\t17.0\t\t79.0\n",
      "label is  --> neutral\tclassification is \t-->\tneutral\t\t17.0\t\t80.0\n",
      "label is  --> neutral\tclassification is \t-->\tneutral\t\t17.0\t\t81.0\n",
      "label is  --> neutral\tclassification is \t-->\tpositive\t\t18.0\t\t82.0\n",
      "label is  --> neutral\tclassification is \t-->\tneutral\t\t18.0\t\t83.0\n",
      "label is  --> negative\tclassification is \t-->\tneutral\t\t19.0\t\t84.0\n",
      "label is  --> negative\tclassification is \t-->\tnegative\t\t19.0\t\t85.0\n",
      "label is  --> negative\tclassification is \t-->\tneutral\t\t20.0\t\t86.0\n",
      "label is  --> neutral\tclassification is \t-->\tpositive\t\t21.0\t\t87.0\n",
      "label is  --> negative\tclassification is \t-->\tneutral\t\t22.0\t\t88.0\n",
      "label is  --> negative\tclassification is \t-->\tnegative\t\t22.0\t\t89.0\n",
      "wrong = 22.0\tcount = 89.0\t75.28089887640449%\n"
     ]
    }
   ],
   "source": [
    "test(rows, 4,3, files)"
   ]
  },
  {
   "cell_type": "code",
   "execution_count": 61,
   "metadata": {},
   "outputs": [],
   "source": [
    "# pickle_file = '/Users/dougmengistu/Downloads/classifier2.pickle'"
   ]
  },
  {
   "cell_type": "code",
   "execution_count": 62,
   "metadata": {},
   "outputs": [],
   "source": [
    "# pickle_dump(pickle_file,classifier)"
   ]
  }
 ],
 "metadata": {
  "kernelspec": {
   "display_name": "Python 3",
   "language": "python",
   "name": "python3"
  },
  "language_info": {
   "codemirror_mode": {
    "name": "ipython",
    "version": 3
   },
   "file_extension": ".py",
   "mimetype": "text/x-python",
   "name": "python",
   "nbconvert_exporter": "python",
   "pygments_lexer": "ipython3",
   "version": "3.6.3"
  }
 },
 "nbformat": 4,
 "nbformat_minor": 2
}
